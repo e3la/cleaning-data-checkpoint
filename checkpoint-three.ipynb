{
  "metadata": {
    "kernelspec": {
      "name": "python3",
      "display_name": "Python 3",
      "language": "python"
    },
    "language_info": {
      "name": "python",
      "version": "3.8.8",
      "mimetype": "text/x-python",
      "codemirror_mode": {
        "name": "ipython",
        "version": 3
      },
      "pygments_lexer": "ipython3",
      "nbconvert_exporter": "python",
      "file_extension": ".py"
    },
    "colab": {
      "provenance": [],
      "include_colab_link": true
    }
  },
  "nbformat_minor": 0,
  "nbformat": 4,
  "cells": [
    {
      "cell_type": "markdown",
      "metadata": {
        "id": "view-in-github",
        "colab_type": "text"
      },
      "source": [
        "<a href=\"https://colab.research.google.com/github/e3la/cleaning-data-checkpoint/blob/main/checkpoint-three.ipynb\" target=\"_parent\"><img src=\"https://colab.research.google.com/assets/colab-badge.svg\" alt=\"Open In Colab\"/></a>"
      ]
    },
    {
      "cell_type": "markdown",
      "source": [
        "# Checkpoint Three: Cleaning Data\n",
        "\n",
        "Now you are ready to clean your data. Before starting coding, provide the link to your dataset below.\n",
        "\n",
        "My dataset:\n",
        "\n",
        "Import the necessary libraries and create your dataframe(s)."
      ],
      "metadata": {
        "azdata_cell_guid": "26037d32-2047-4157-81ef-595916bd66a0",
        "id": "Gtajd-tQxeUQ"
      }
    },
    {
      "cell_type": "code",
      "source": [
        "import pandas as pd\n",
        "import matplotlib.pyplot as plt\n",
        "import seaborn as sns\n",
        "import numpy as np\n",
        "\n",
        "url = 'https://raw.githubusercontent.com/e3la/eda-checkpoint/starter-main/articles.csv'\n",
        "url2 = 'https://raw.githubusercontent.com/e3la/eda-checkpoint/starter-main/umsl-scholarship.csv'\n",
        "\n",
        "df_f= pd.read_csv(url) #this is the faculty provided dataset\n",
        "df_s= pd.read_csv(url2) #this is the scopus provided dataset"
      ],
      "metadata": {
        "azdata_cell_guid": "e8adef8e-d0f2-4640-a179-5997f11e82ca",
        "id": "YQU5zImdxeUS"
      },
      "outputs": [],
      "execution_count": null
    },
    {
      "cell_type": "markdown",
      "source": [
        "## Missing Data\n",
        "\n",
        "Test your dataset for missing data and handle it as needed. Make notes in the form of code comments as to your thought process."
      ],
      "metadata": {
        "azdata_cell_guid": "e172475a-c4ee-414a-8367-9965355dbba6",
        "id": "VeSedLkrxeUS"
      }
    },
    {
      "cell_type": "code",
      "source": [],
      "metadata": {
        "azdata_cell_guid": "e1dc66ef-e471-4c27-92e7-ee878c106eba",
        "id": "zP-dwOM5xeUS"
      },
      "outputs": [],
      "execution_count": null
    },
    {
      "cell_type": "markdown",
      "source": [
        "## Irregular Data\n",
        "\n",
        "Detect outliers in your dataset and handle them as needed. Use code comments to make notes about your thought process."
      ],
      "metadata": {
        "azdata_cell_guid": "1233f543-e9a0-4f78-96f5-d7536554102e",
        "id": "-aWTN_ijxeUS"
      }
    },
    {
      "cell_type": "code",
      "source": [],
      "metadata": {
        "azdata_cell_guid": "efed50ae-16f0-471d-98e2-632553a74c12",
        "id": "VrwVmO8cxeUS"
      },
      "outputs": [],
      "execution_count": null
    },
    {
      "cell_type": "markdown",
      "source": [
        "## Unnecessary Data\n",
        "\n",
        "Look for the different types of unnecessary data in your dataset and address it as needed. Make sure to use code comments to illustrate your thought process."
      ],
      "metadata": {
        "azdata_cell_guid": "6f5b8ee0-bab3-44bc-958a-67d1e4c0407f",
        "id": "JhYUJVrgxeUS"
      }
    },
    {
      "cell_type": "code",
      "source": [],
      "metadata": {
        "azdata_cell_guid": "e788a239-2fbf-41de-9bd3-19e52e3b187c",
        "id": "i1PZ9pd2xeUT"
      },
      "outputs": [],
      "execution_count": null
    },
    {
      "cell_type": "markdown",
      "source": [
        "## Inconsistent Data\n",
        "\n",
        "Check for inconsistent data and address any that arises. As always, use code comments to illustrate your thought process."
      ],
      "metadata": {
        "azdata_cell_guid": "53e0cf94-c68a-4fa0-9849-9505a66bcce6",
        "id": "Y5GIdgXXxeUT"
      }
    },
    {
      "cell_type": "code",
      "source": [],
      "metadata": {
        "azdata_cell_guid": "e9de6624-812a-43f8-8e20-93b4a49b091f",
        "id": "J6qzSq0dxeUT"
      },
      "outputs": [],
      "execution_count": null
    },
    {
      "cell_type": "markdown",
      "source": [
        "## Summarize Your Results\n",
        "\n",
        "Make note of your answers to the following questions.\n",
        "\n",
        "1. Did you find all four types of dirty data in your dataset?\n",
        "2. Did the process of cleaning your data give you new insights into your dataset?\n",
        "3. Is there anything you would like to make note of when it comes to manipulating the data and making visualizations?"
      ],
      "metadata": {
        "azdata_cell_guid": "dedc0bfe-17d0-40b2-914f-2ddb54f9ce0d",
        "id": "ivmgbGyixeUT"
      }
    }
  ]
}