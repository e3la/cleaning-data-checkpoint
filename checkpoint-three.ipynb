{
  "metadata": {
    "kernelspec": {
      "name": "python3",
      "display_name": "Python 3",
      "language": "python"
    },
    "language_info": {
      "name": "python",
      "version": "3.8.8",
      "mimetype": "text/x-python",
      "codemirror_mode": {
        "name": "ipython",
        "version": 3
      },
      "pygments_lexer": "ipython3",
      "nbconvert_exporter": "python",
      "file_extension": ".py"
    },
    "colab": {
      "provenance": [],
      "include_colab_link": true
    }
  },
  "nbformat_minor": 0,
  "nbformat": 4,
  "cells": [
    {
      "cell_type": "markdown",
      "metadata": {
        "id": "view-in-github",
        "colab_type": "text"
      },
      "source": [
        "<a href=\"https://colab.research.google.com/github/e3la/cleaning-data-checkpoint/blob/main/checkpoint-three.ipynb\" target=\"_parent\"><img src=\"https://colab.research.google.com/assets/colab-badge.svg\" alt=\"Open In Colab\"/></a>"
      ]
    },
    {
      "cell_type": "markdown",
      "source": [
        "# Checkpoint Three: Cleaning Data\n",
        "\n",
        "Now you are ready to clean your data. Before starting coding, provide the link to your dataset below.\n",
        "\n",
        "My dataset:\n",
        "\n",
        "Import the necessary libraries and create your dataframe(s)."
      ],
      "metadata": {
        "azdata_cell_guid": "26037d32-2047-4157-81ef-595916bd66a0",
        "id": "Gtajd-tQxeUQ"
      }
    },
    {
      "cell_type": "code",
      "source": [
        "import pandas as pd\n",
        "import numpy as np\n",
        "\n",
        "url1 = 'https://raw.githubusercontent.com/e3la/eda-checkpoint/starter-main/articles.csv'\n",
        "url2 = 'https://raw.githubusercontent.com/e3la/eda-checkpoint/starter-main/umsl-scholarship.csv'\n",
        "\n",
        "df1= pd.read_csv(url1) #this is the faculty provided dataset\n",
        "df2= pd.read_csv(url2) #this is the scopus provided dataset"
      ],
      "metadata": {
        "azdata_cell_guid": "e8adef8e-d0f2-4640-a179-5997f11e82ca",
        "id": "YQU5zImdxeUS"
      },
      "outputs": [],
      "execution_count": 66
    },
    {
      "cell_type": "markdown",
      "source": [
        "## Missing Data\n",
        "\n",
        "Test your dataset for missing data and handle it as needed. Make notes in the form of code comments as to your thought process."
      ],
      "metadata": {
        "azdata_cell_guid": "e172475a-c4ee-414a-8367-9965355dbba6",
        "id": "VeSedLkrxeUS"
      }
    },
    {
      "cell_type": "markdown",
      "source": [
        "The bulk of my missing needed data is DOIs. - I have lots of Titles. My faculty information"
      ],
      "metadata": {
        "id": "Ajg5FjDhC085"
      }
    },
    {
      "cell_type": "code",
      "source": [],
      "metadata": {
        "azdata_cell_guid": "e1dc66ef-e471-4c27-92e7-ee878c106eba",
        "id": "zP-dwOM5xeUS"
      },
      "outputs": [],
      "execution_count": 66
    },
    {
      "cell_type": "markdown",
      "source": [
        "## Irregular Data\n",
        "\n",
        "Detect outliers in your dataset and handle them as needed. Use code comments to make notes about your thought process."
      ],
      "metadata": {
        "azdata_cell_guid": "1233f543-e9a0-4f78-96f5-d7536554102e",
        "id": "-aWTN_ijxeUS"
      }
    },
    {
      "cell_type": "code",
      "source": [],
      "metadata": {
        "azdata_cell_guid": "efed50ae-16f0-471d-98e2-632553a74c12",
        "id": "VrwVmO8cxeUS"
      },
      "outputs": [],
      "execution_count": 66
    },
    {
      "cell_type": "markdown",
      "source": [
        "## Unnecessary Data\n",
        "\n",
        "Look for the different types of unnecessary data in your dataset and address it as needed. Make sure to use code comments to illustrate your thought process."
      ],
      "metadata": {
        "azdata_cell_guid": "6f5b8ee0-bab3-44bc-958a-67d1e4c0407f",
        "id": "JhYUJVrgxeUS"
      }
    },
    {
      "cell_type": "code",
      "source": [],
      "metadata": {
        "azdata_cell_guid": "e788a239-2fbf-41de-9bd3-19e52e3b187c",
        "id": "i1PZ9pd2xeUT"
      },
      "outputs": [],
      "execution_count": 66
    },
    {
      "cell_type": "markdown",
      "source": [
        "## Inconsistent Data\n",
        "\n",
        "Check for inconsistent data and address any that arises. As always, use code comments to illustrate your thought process."
      ],
      "metadata": {
        "azdata_cell_guid": "53e0cf94-c68a-4fa0-9849-9505a66bcce6",
        "id": "Y5GIdgXXxeUT"
      }
    },
    {
      "cell_type": "markdown",
      "source": [
        "Some of my DOIs include the url part, some do not, and some are not DOIs :/"
      ],
      "metadata": {
        "id": "moQnWtmpDFsF"
      }
    },
    {
      "cell_type": "code",
      "source": [],
      "metadata": {
        "azdata_cell_guid": "e9de6624-812a-43f8-8e20-93b4a49b091f",
        "id": "J6qzSq0dxeUT"
      },
      "outputs": [],
      "execution_count": 66
    },
    {
      "cell_type": "markdown",
      "source": [
        "## Summarize Your Results\n",
        "\n",
        "Make note of your answers to the following questions.\n",
        "\n",
        "1. Did you find all four types of dirty data in your dataset?\n",
        "2. Did the process of cleaning your data give you new insights into your dataset?\n",
        "3. Is there anything you would like to make note of when it comes to manipulating the data and making visualizations?"
      ],
      "metadata": {
        "azdata_cell_guid": "dedc0bfe-17d0-40b2-914f-2ddb54f9ce0d",
        "id": "ivmgbGyixeUT"
      }
    },
    {
      "cell_type": "code",
      "source": [
        "print(df1.info()) #the Prof provided spreadsheet is a lot smaller and easier to deal with\n",
        "#print(df2.info()) #the scopus provided spreadsheet has way way too many columns, as discoverd in last checkpoint\n",
        "not_author_columns = [column for column in df2.columns if 'author' not in column]\n",
        "df3 = df2[not_author_columns] #this is the scopus spreadsheet without all the author columns\n",
        "\n",
        "all_author_columns = [column for column in df2.columns if 'author' in column]\n",
        "df4 = df2[all_author_columns] #this is the scopus spreadsheet with only the author columns\n",
        "\n",
        "print(df3.info())\n",
        "print(not_author_columns)\n",
        "\n",
        "print(df4.info())\n",
        "\n",
        "print(df4.head(4))\n",
        "\n",
        "all_institutions_columns = [column for column in df2.columns if 'institution' in column]\n",
        "df5 = df2[all_institutions_columns] #this is the scopus spreadsheet with only the institutions columns\n",
        "\n"
      ],
      "metadata": {
        "id": "fmU6P47-3BKz",
        "outputId": "7858ce0c-b9a4-4160-b968-b9a4535b763e",
        "colab": {
          "base_uri": "https://localhost:8080/"
        }
      },
      "execution_count": 81,
      "outputs": [
        {
          "output_type": "stream",
          "name": "stdout",
          "text": [
            "<class 'pandas.core.frame.DataFrame'>\n",
            "RangeIndex: 5662 entries, 0 to 5661\n",
            "Data columns (total 39 columns):\n",
            " #   Column                                                                   Non-Null Count  Dtype  \n",
            "---  ------                                                                   --------------  -----  \n",
            " 0   First Name                                                               5662 non-null   object \n",
            " 1   Last Name                                                                5662 non-null   object \n",
            " 2   Type                                                                     5662 non-null   object \n",
            " 3   Title                                                                    5662 non-null   object \n",
            " 4   Journal                                                                  5109 non-null   object \n",
            " 5   Date                                                                     2331 non-null   object \n",
            " 6   Year                                                                     5353 non-null   float64\n",
            " 7   Volume                                                                   2857 non-null   object \n",
            " 8   Pages                                                                    2713 non-null   object \n",
            " 9   Issue                                                                    1526 non-null   object \n",
            " 10  URL                                                                      576 non-null    object \n",
            " 11  Status                                                                   5661 non-null   object \n",
            " 12  DOI                                                                      1690 non-null   object \n",
            " 13  PMID                                                                     663 non-null    object \n",
            " 14  PMCID                                                                    287 non-null    object \n",
            " 15  ISSN                                                                     850 non-null    object \n",
            " 16  Term                                                                     5660 non-null   object \n",
            " 17  Year.1                                                                   5661 non-null   object \n",
            " 18  Description                                                              2098 non-null   object \n",
            " 19  Authors                                                                  5592 non-null   object \n",
            " 20  AACSB: Professional Practice Standards or Public Policy                  934 non-null    object \n",
            " 21  AACSB: Scholarly Type                                                    788 non-null    object \n",
            " 22  Peer Review Type                                                         3543 non-null   object \n",
            " 23  Geographic Scope                                                         2086 non-null   object \n",
            " 24  Funding Type                                                             2661 non-null   object \n",
            " 25  Article Type                                                             3971 non-null   object \n",
            " 26  Peer Reviewed / Juried?                                                  5162 non-null   object \n",
            " 27  Publication Type                                                         5107 non-null   object \n",
            " 28  Faculty Role                                                             2606 non-null   object \n",
            " 29  Funding Agency and Grant Number (if applicable)                          586 non-null    object \n",
            " 30  Description of Intellectual Contribution / Role                          280 non-null    object \n",
            " 31  Reviews and Press Coverage of Work                                       31 non-null     object \n",
            " 32  URL(s) of Reviews and Press Coverage (or upload documents in section C)  26 non-null     object \n",
            " 33  Language                                                                 4687 non-null   object \n",
            " 34  Honors / Awards / Recognition Received                                   50 non-null     object \n",
            " 35  Source of Data                                                           5258 non-null   object \n",
            " 36  Times Cited                                                              389 non-null    float64\n",
            " 37  Impact Factor                                                            0 non-null      float64\n",
            " 38  Journal Quartile                                                         0 non-null      float64\n",
            "dtypes: float64(4), object(35)\n",
            "memory usage: 1.7+ MB\n",
            "None\n",
            "<class 'pandas.core.frame.DataFrame'>\n",
            "RangeIndex: 2892 entries, 0 to 2891\n",
            "Data columns (total 38 columns):\n",
            " #   Column                                                                      Non-Null Count  Dtype  \n",
            "---  ------                                                                      --------------  -----  \n",
            " 0   title                                                                       2892 non-null   object \n",
            " 1   => BEGIN UNMAPPED SCOPUS METADATA (MODIFY/RENAME/DELETE COLUMNS AS NEEDED)  2892 non-null   object \n",
            " 2   Open Access                                                                 2892 non-null   object \n",
            " 3   Gold OA                                                                     2892 non-null   object \n",
            " 4   Hybrid Gold OA                                                              2892 non-null   object \n",
            " 5   Bronze OA                                                                   2892 non-null   object \n",
            " 6   Green Final OA                                                              2892 non-null   object \n",
            " 7   Green Accepted OA                                                           2892 non-null   object \n",
            " 8   External Full-text Location                                                 2758 non-null   object \n",
            " 9   Source API URL                                                              2892 non-null   object \n",
            " 10  Source Document Type                                                        2892 non-null   object \n",
            " 11  <= END UNMAPPED SCOPUS METADATA                                             2892 non-null   object \n",
            " 12  fulltext_url                                                                0 non-null      float64\n",
            " 13  keywords                                                                    2016 non-null   object \n",
            " 14  abstract                                                                    2659 non-null   object \n",
            " 15  articlenum                                                                  558 non-null    object \n",
            " 16  disciplines                                                                 0 non-null      float64\n",
            " 17  comments                                                                    0 non-null      float64\n",
            " 18  create_openurl                                                              0 non-null      float64\n",
            " 19  custom_citation                                                             0 non-null      float64\n",
            " 20  document_type                                                               2892 non-null   object \n",
            " 21  doi                                                                         2758 non-null   object \n",
            " 22  eissn                                                                       2049 non-null   object \n",
            " 23  fpage                                                                       2261 non-null   object \n",
            " 24  fundref                                                                     1318 non-null   object \n",
            " 25  grant                                                                       1060 non-null   object \n",
            " 26  identifier                                                                  2892 non-null   object \n",
            " 27  isbn                                                                        395 non-null    object \n",
            " 28  issn                                                                        2187 non-null   object \n",
            " 29  issnum                                                                      1973 non-null   object \n",
            " 30  lpage                                                                       2237 non-null   object \n",
            " 31  publication_date                                                            2892 non-null   object \n",
            " 32  season                                                                      0 non-null      float64\n",
            " 33  pubmedid                                                                    975 non-null    float64\n",
            " 34  rights                                                                      0 non-null      float64\n",
            " 35  source_fulltext_url                                                         2758 non-null   object \n",
            " 36  source_publication                                                          2892 non-null   object \n",
            " 37  volnum                                                                      2465 non-null   object \n",
            "dtypes: float64(8), object(30)\n",
            "memory usage: 858.7+ KB\n",
            "None\n",
            "['title', '=> BEGIN UNMAPPED SCOPUS METADATA (MODIFY/RENAME/DELETE COLUMNS AS NEEDED)', 'Open Access', 'Gold OA', 'Hybrid Gold OA', 'Bronze OA', 'Green Final OA', 'Green Accepted OA', 'External Full-text Location', 'Source API URL', 'Source Document Type', '<= END UNMAPPED SCOPUS METADATA', 'fulltext_url', 'keywords', 'abstract', 'articlenum', 'disciplines', 'comments', 'create_openurl', 'custom_citation', 'document_type', 'doi', 'eissn', 'fpage', 'fundref', 'grant', 'identifier', 'isbn', 'issn', 'issnum', 'lpage', 'publication_date', 'season', 'pubmedid', 'rights', 'source_fulltext_url', 'source_publication', 'volnum']\n",
            "<class 'pandas.core.frame.DataFrame'>\n",
            "RangeIndex: 2892 entries, 0 to 2891\n",
            "Columns: 210 entries, author1_fname to author30_is_corporate\n",
            "dtypes: float64(120), object(90)\n",
            "memory usage: 4.6+ MB\n",
            "None\n",
            "  author1_fname  author1_mname author1_lname  author1_suffix  author1_email  \\\n",
            "0        Lizzie            NaN     Ortiz-Cam             NaN            NaN   \n",
            "1       Sage D.            NaN        Rohrer             NaN            NaN   \n",
            "2     Joshua W.            NaN          Reid             NaN            NaN   \n",
            "3         Edwin            NaN           Pos             NaN            NaN   \n",
            "\n",
            "                                 author1_institution  author1_is_corporate  \\\n",
            "0      National Forest and Wildlife Service (SERFOR)                   NaN   \n",
            "1  University of Missouri-St. Louis, Department o...                   NaN   \n",
            "2                              Texas Tech University                   NaN   \n",
            "3                               Universiteit Utrecht                   NaN   \n",
            "\n",
            "  author2_fname  author2_mname      author2_lname  ...  author29_email  \\\n",
            "0          Lisa            NaN        Jones-Engel  ...             NaN   \n",
            "1       Gustavo            NaN  Jiménez-Uzcátegui  ...             NaN   \n",
            "2     Samuel J.            NaN            Polizzi  ...             NaN   \n",
            "3          Luiz            NaN    de Souza Coelho  ...             NaN   \n",
            "\n",
            "                                author29_institution author29_is_corporate  \\\n",
            "0                                                NaN                   NaN   \n",
            "1                                                NaN                   NaN   \n",
            "2                                                NaN                   NaN   \n",
            "3  Universidade Estadual Paulista \"Júlio de Mesqu...                   NaN   \n",
            "\n",
            "        author30_fname author30_mname  author30_lname author30_suffix  \\\n",
            "0                  NaN            NaN             NaN             NaN   \n",
            "1                  NaN            NaN             NaN             NaN   \n",
            "2                  NaN            NaN             NaN             NaN   \n",
            "3  Evlyn Márcia Moraes            NaN    de Leão Novo             NaN   \n",
            "\n",
            "   author30_email                       author30_institution  \\\n",
            "0             NaN                                        NaN   \n",
            "1             NaN                                        NaN   \n",
            "2             NaN                                        NaN   \n",
            "3             NaN  Instituto Nacional de Pesquisas Espaciais   \n",
            "\n",
            "  author30_is_corporate  \n",
            "0                   NaN  \n",
            "1                   NaN  \n",
            "2                   NaN  \n",
            "3                   NaN  \n",
            "\n",
            "[4 rows x 210 columns]\n"
          ]
        }
      ]
    },
    {
      "cell_type": "code",
      "source": [
        "type_counts = df1['Status'].value_counts()\n",
        "print(type_counts)\n",
        "df1_published = df1[df1['Status'] == 'Completed/Published']\n",
        "print(df1_published.info)\n",
        "\n",
        "print(df1_published['Status'].value_counts())\n"
      ],
      "metadata": {
        "id": "YHScAlWp_9ha",
        "outputId": "bf57cb3a-bca3-49b8-8f2c-5e1e6728c416",
        "colab": {
          "base_uri": "https://localhost:8080/"
        }
      },
      "execution_count": 68,
      "outputs": [
        {
          "output_type": "stream",
          "name": "stdout",
          "text": [
            "Completed/Published    3888\n",
            "In Progress             508\n",
            "Submitted               505\n",
            "Accepted                417\n",
            "Revise & Resubmit       165\n",
            "In Press                 96\n",
            "Work Discontinued        82\n",
            "Name: Status, dtype: int64\n",
            "<bound method DataFrame.info of      First Name Last Name     Type  \\\n",
            "0       Michael   Allison  Article   \n",
            "1       Michael   Allison  Article   \n",
            "4       Francis     Grady  Article   \n",
            "5          Anne   Winkler  Article   \n",
            "6          Anne   Winkler  Article   \n",
            "...         ...       ...      ...   \n",
            "5650      Devin     Banks  Article   \n",
            "5651      Devin     Banks  Article   \n",
            "5652      Devin     Banks  Article   \n",
            "5659     Andrea   Giuffre  Article   \n",
            "5661     Andrea   Giuffre  Article   \n",
            "\n",
            "                                                  Title  \\\n",
            "0                Investigating the Biomedical Workforce   \n",
            "1     Investigating the US Biomedical Workforce: Gen...   \n",
            "4                         Chaucer's Langland's Boethius   \n",
            "5     Investigating the US Biomedical Workforce: Gen...   \n",
            "6       Welfare Rules, Incentives, and Family Structure   \n",
            "...                                                 ...   \n",
            "5650  Racial identity, discrimination and polysubsta...   \n",
            "5651  Integrating Individual and Contextual Factors ...   \n",
            "5652  Trends in typologies of concurrent alcohol, ma...   \n",
            "5659  Understanding Trends in Jail Population in St....   \n",
            "5661  Reinforcing the web of municipal courts: Evide...   \n",
            "\n",
            "                                                Journal       Date    Year  \\\n",
            "0                             Science and Public Policy       2019  2019.0   \n",
            "1                             Science and Public Policy       2019  2019.0   \n",
            "4                          Yearbook of Langland Studies       2018  2018.0   \n",
            "5                             Science and Public Policy       2019  2019.0   \n",
            "6                            Journal of Human Resources       2020  2020.0   \n",
            "...                                                 ...        ...     ...   \n",
            "5650                  Psychology of Addictive Behaviors        NaN  2021.0   \n",
            "5651                        Archives of sexual behavior  3/10/2020  2020.0   \n",
            "5652                        Drug and alcohol dependence  7/21/2017  2017.0   \n",
            "5659                                                NaN        NaN  2022.0   \n",
            "5661  The Russell Sage Foundation Journal of the Soc...        NaN  2021.0   \n",
            "\n",
            "     Volume      Pages Issue  ...  \\\n",
            "0        46    913-926     6  ...   \n",
            "1        46    913-926     6  ...   \n",
            "4        32     271-87   NaN  ...   \n",
            "5        46    913-926     6  ...   \n",
            "6        55     Jan-42     1  ...   \n",
            "...     ...        ...   ...  ...   \n",
            "5650     35    224-230     2  ...   \n",
            "5651     49  1939-1964     6  ...   \n",
            "5652    179      71-77   NaN  ...   \n",
            "5659    NaN        NaN   NaN  ...   \n",
            "5661      8    108-127     1  ...   \n",
            "\n",
            "     Funding Agency and Grant Number (if applicable)  \\\n",
            "0                                               NIH    \n",
            "1                                                NaN   \n",
            "4                                                NaN   \n",
            "5                                                NaN   \n",
            "6                                                NaN   \n",
            "...                                              ...   \n",
            "5650                                             NaN   \n",
            "5651                                             NaN   \n",
            "5652                                             NaN   \n",
            "5659                                             NaN   \n",
            "5661                                             NaN   \n",
            "\n",
            "     Description of Intellectual Contribution / Role  \\\n",
            "0                                                NaN   \n",
            "1                                                NaN   \n",
            "4                                                NaN   \n",
            "5                                                NaN   \n",
            "6                                                NaN   \n",
            "...                                              ...   \n",
            "5650                                             NaN   \n",
            "5651                                             NaN   \n",
            "5652                                             NaN   \n",
            "5659                                             NaN   \n",
            "5661                                             NaN   \n",
            "\n",
            "     Reviews and Press Coverage of Work  \\\n",
            "0                                   NaN   \n",
            "1                                   NaN   \n",
            "4                                   NaN   \n",
            "5                                   NaN   \n",
            "6                                   NaN   \n",
            "...                                 ...   \n",
            "5650                                NaN   \n",
            "5651                                NaN   \n",
            "5652                                NaN   \n",
            "5659                                NaN   \n",
            "5661                                NaN   \n",
            "\n",
            "     URL(s) of Reviews and Press Coverage (or upload documents in section C)  \\\n",
            "0                                                   NaN                        \n",
            "1                                                   NaN                        \n",
            "4                                                   NaN                        \n",
            "5                                                   NaN                        \n",
            "6                                                   NaN                        \n",
            "...                                                 ...                        \n",
            "5650                                                NaN                        \n",
            "5651                                                NaN                        \n",
            "5652                                                NaN                        \n",
            "5659                                                NaN                        \n",
            "5661                                                NaN                        \n",
            "\n",
            "     Language Honors / Awards / Recognition Received  \\\n",
            "0     English                                    NaN   \n",
            "1     English                                    NaN   \n",
            "4     English                                    NaN   \n",
            "5     English                                    NaN   \n",
            "6     English                                    NaN   \n",
            "...       ...                                    ...   \n",
            "5650  English                                    NaN   \n",
            "5651  English                                    NaN   \n",
            "5652  English                                    NaN   \n",
            "5659  English                                    NaN   \n",
            "5661  English                                    NaN   \n",
            "\n",
            "                    Source of Data Times Cited Impact Factor Journal Quartile  \n",
            "0                    Self-reported         NaN           NaN              NaN  \n",
            "1                    Self-reported         NaN           NaN              NaN  \n",
            "4                    Self-reported         NaN           NaN              NaN  \n",
            "5                    Self-reported         NaN           NaN              NaN  \n",
            "6     FAS and other legacy systems         NaN           NaN              NaN  \n",
            "...                            ...         ...           ...              ...  \n",
            "5650                 Self-reported         NaN           NaN              NaN  \n",
            "5651                 Self-reported         1.0           NaN              NaN  \n",
            "5652                 Self-reported        32.0           NaN              NaN  \n",
            "5659                 Self-reported         NaN           NaN              NaN  \n",
            "5661                 Self-reported         NaN           NaN              NaN  \n",
            "\n",
            "[3888 rows x 39 columns]>\n",
            "Completed/Published    3888\n",
            "Name: Status, dtype: int64\n"
          ]
        }
      ]
    },
    {
      "cell_type": "code",
      "source": [
        "print(df1.head(2))\n",
        "print(df3.head(2))\n"
      ],
      "metadata": {
        "id": "PkGnHpHc7NFA",
        "outputId": "f5edbb1f-6e3e-49fc-f2a5-0c232aaf6ef8",
        "colab": {
          "base_uri": "https://localhost:8080/"
        }
      },
      "execution_count": 69,
      "outputs": [
        {
          "output_type": "stream",
          "name": "stdout",
          "text": [
            "  First Name Last Name     Type  \\\n",
            "0    Michael   Allison  Article   \n",
            "1    Michael   Allison  Article   \n",
            "\n",
            "                                               Title  \\\n",
            "0             Investigating the Biomedical Workforce   \n",
            "1  Investigating the US Biomedical Workforce: Gen...   \n",
            "\n",
            "                     Journal  Date    Year Volume    Pages Issue  ...  \\\n",
            "0  Science and Public Policy  2019  2019.0     46  913-926     6  ...   \n",
            "1  Science and Public Policy  2019  2019.0     46  913-926     6  ...   \n",
            "\n",
            "  Funding Agency and Grant Number (if applicable)  \\\n",
            "0                                            NIH    \n",
            "1                                             NaN   \n",
            "\n",
            "  Description of Intellectual Contribution / Role  \\\n",
            "0                                             NaN   \n",
            "1                                             NaN   \n",
            "\n",
            "  Reviews and Press Coverage of Work  \\\n",
            "0                                NaN   \n",
            "1                                NaN   \n",
            "\n",
            "  URL(s) of Reviews and Press Coverage (or upload documents in section C)  \\\n",
            "0                                                NaN                        \n",
            "1                                                NaN                        \n",
            "\n",
            "  Language Honors / Awards / Recognition Received Source of Data Times Cited  \\\n",
            "0  English                                    NaN  Self-reported         NaN   \n",
            "1  English                                    NaN  Self-reported         NaN   \n",
            "\n",
            "  Impact Factor Journal Quartile  \n",
            "0           NaN              NaN  \n",
            "1           NaN              NaN  \n",
            "\n",
            "[2 rows x 39 columns]\n",
            "                                               title  \\\n",
            "0  Association between seroprevalence of measles ...   \n",
            "1  Composition and function of the Galapagos peng...   \n",
            "\n",
            "  => BEGIN UNMAPPED SCOPUS METADATA (MODIFY/RENAME/DELETE COLUMNS AS NEEDED)  \\\n",
            "0                                                                              \n",
            "1                                                                              \n",
            "\n",
            "  Open Access  Gold OA Hybrid Gold OA Bronze OA  Green Final OA  \\\n",
            "0          OA  Gold OA              -         -               -   \n",
            "1          OA  Gold OA              -         -  Green Final OA   \n",
            "\n",
            "  Green Accepted OA                   External Full-text Location  \\\n",
            "0                 -  https://doi.org/10.1016/j.onehlt.2023.100571   \n",
            "1                 -    https://doi.org/10.1038/s41598-023-31826-y   \n",
            "\n",
            "                                      Source API URL  ... issn issnum  lpage  \\\n",
            "0  https://api.elsevier.com/content/abstract/scop...  ...  NaN    NaN    NaN   \n",
            "1  https://api.elsevier.com/content/abstract/scop...  ...  NaN      1    NaN   \n",
            "\n",
            "  publication_date season    pubmedid  rights  \\\n",
            "0       2023-12-01    NaN         NaN     NaN   \n",
            "1       2023-12-01    NaN  37005428.0     NaN   \n",
            "\n",
            "                            source_fulltext_url  source_publication  volnum  \n",
            "0  https://doi.org/10.1016/j.onehlt.2023.100571          One Health      17  \n",
            "1    https://doi.org/10.1038/s41598-023-31826-y  Scientific Reports      13  \n",
            "\n",
            "[2 rows x 38 columns]\n"
          ]
        }
      ]
    },
    {
      "cell_type": "code",
      "source": [
        "print(df1.isna().sum())\n",
        "print(df3.isna().sum())\n",
        "\n",
        "titles1 = set(df1['Title'].str.upper().values)\n",
        "titles2 = set(df3['title'].str.upper().values)\n",
        "common_titles = titles1.intersection(titles2)\n",
        "print(\"*****\\nNumber of titles in common\")\n",
        "print(len(common_titles))\n",
        "\n",
        "dois1 = set(df1['DOI'].values)\n",
        "dois3 = set(df3['doi'].values)\n",
        "common_dois = dois1.intersection(dois3)\n",
        "print(\"*****\\nNumber of dois in common\")\n",
        "print(len(common_dois))\n",
        "\n",
        "all_dois = dois1.union(dois3)\n",
        "print(\"*****Total number of combined dois\")\n",
        "print(len(all_dois))\n",
        "print(all_dois)\n"
      ],
      "metadata": {
        "id": "ua0DOmKQ3mZE",
        "outputId": "dbb9f819-b517-419f-b236-5527bfd0019e",
        "colab": {
          "base_uri": "https://localhost:8080/"
        }
      },
      "execution_count": 70,
      "outputs": [
        {
          "output_type": "stream",
          "name": "stdout",
          "text": [
            "First Name                                                                    0\n",
            "Last Name                                                                     0\n",
            "Type                                                                          0\n",
            "Title                                                                         0\n",
            "Journal                                                                     553\n",
            "Date                                                                       3331\n",
            "Year                                                                        309\n",
            "Volume                                                                     2805\n",
            "Pages                                                                      2949\n",
            "Issue                                                                      4136\n",
            "URL                                                                        5086\n",
            "Status                                                                        1\n",
            "DOI                                                                        3972\n",
            "PMID                                                                       4999\n",
            "PMCID                                                                      5375\n",
            "ISSN                                                                       4812\n",
            "Term                                                                          2\n",
            "Year.1                                                                        1\n",
            "Description                                                                3564\n",
            "Authors                                                                      70\n",
            "AACSB: Professional Practice Standards or Public Policy                    4728\n",
            "AACSB: Scholarly Type                                                      4874\n",
            "Peer Review Type                                                           2119\n",
            "Geographic Scope                                                           3576\n",
            "Funding Type                                                               3001\n",
            "Article Type                                                               1691\n",
            "Peer Reviewed / Juried?                                                     500\n",
            "Publication Type                                                            555\n",
            "Faculty Role                                                               3056\n",
            "Funding Agency and Grant Number (if applicable)                            5076\n",
            "Description of Intellectual Contribution / Role                            5382\n",
            "Reviews and Press Coverage of Work                                         5631\n",
            "URL(s) of Reviews and Press Coverage (or upload documents in section C)    5636\n",
            "Language                                                                    975\n",
            "Honors / Awards / Recognition Received                                     5612\n",
            "Source of Data                                                              404\n",
            "Times Cited                                                                5273\n",
            "Impact Factor                                                              5662\n",
            "Journal Quartile                                                           5662\n",
            "dtype: int64\n",
            "title                                                                            0\n",
            "=> BEGIN UNMAPPED SCOPUS METADATA (MODIFY/RENAME/DELETE COLUMNS AS NEEDED)       0\n",
            "Open Access                                                                      0\n",
            "Gold OA                                                                          0\n",
            "Hybrid Gold OA                                                                   0\n",
            "Bronze OA                                                                        0\n",
            "Green Final OA                                                                   0\n",
            "Green Accepted OA                                                                0\n",
            "External Full-text Location                                                    134\n",
            "Source API URL                                                                   0\n",
            "Source Document Type                                                             0\n",
            "<= END UNMAPPED SCOPUS METADATA                                                  0\n",
            "fulltext_url                                                                  2892\n",
            "keywords                                                                       876\n",
            "abstract                                                                       233\n",
            "articlenum                                                                    2334\n",
            "disciplines                                                                   2892\n",
            "comments                                                                      2892\n",
            "create_openurl                                                                2892\n",
            "custom_citation                                                               2892\n",
            "document_type                                                                    0\n",
            "doi                                                                            134\n",
            "eissn                                                                          843\n",
            "fpage                                                                          631\n",
            "fundref                                                                       1574\n",
            "grant                                                                         1832\n",
            "identifier                                                                       0\n",
            "isbn                                                                          2497\n",
            "issn                                                                           705\n",
            "issnum                                                                         919\n",
            "lpage                                                                          655\n",
            "publication_date                                                                 0\n",
            "season                                                                        2892\n",
            "pubmedid                                                                      1917\n",
            "rights                                                                        2892\n",
            "source_fulltext_url                                                            134\n",
            "source_publication                                                               0\n",
            "volnum                                                                         427\n",
            "dtype: int64\n",
            "*****\n",
            "Number of titles in common\n",
            "916\n",
            "*****\n",
            "Number of dois in common\n",
            "588\n",
            "*****Total number of combined dois\n",
            "3661\n",
            "{'10.1039/d1ma00277e', '10.1080/15476286.2018.1521211', 'https://doi.org/10.1016/j.najef.2018.10.001', '10.1177/00938548211040099', '10.1080/13607863.2018.1544209', '10.4018/978-1-5225-1067-3.ch029', 'DOI: 10.1109/TNNLS.2022.3190367', '10.1016/j.enpol.2021.112722', '10.1098/rspb.2020.1657', '10.1080/09650792.2017.1286996', 'https://doi.org/10.1515/mammalia-2020-0183', '10.4324/9781315080406', '10.1364/UP.2016.UTh4A.16', '10.3732/ajb.1500499', '10.1111/jcpp.13116  ', '10.1007/978-3-319-23291-1_18', '10.1016/j.omega.2022.102713', '10.1111/1745-9125.12101', '10.1186/s12981-019-0257-8', '10.1002/cbic.201600428', '10.1093/bioinformatics/btv235', '10.1177/1524838016650188', '10.1177/1078087416628687', '10.5194/bg-15-3377-2018', '10.1080/07448481.2022.2155466', '10.1177/1088767919850230', '10.1111/1745-9125.12243', '10.1002/aps3.1167', '10.3390/en12163176', '10.1007/s11042-020-08678-z', '10.1007/s12228-017-9517-x', '10.1093/bioinformatics/btz593', '10.1016/j.tree.2016.07.012', '10.3758/s13423-015-0902-8', '10.1080/07352166.2017.1310558', '10.1002/prot.25405', '10.1037/fam0001005', '10.1016/j.plipres.2022.101158', '10.1111/jon.12431', '10.1021/acs.analchem.6b03959', 'https://doi.org/10.1176/appi.ajp.2019.19010060', '10.4324/9780429327117', '10.1645/16-8', '10.1080/10510974.2018.1457553', '10.1038/s41586-019-1693-2', '10.1142/S0219633619200013', '10.1037/rep0000215', '10.1007/s10339-017-0793-x', '10.1016/j.jct.2017.02.010', '10.1007/s13524-018-0672-9', '10.1002/jaal.1067', 'https://doi.org/10.3390/children9040495', '10.1080/10410236.2014.903222', '10.1016/j.amjcard.2020.12.088', '10.1080/17457289.2019.1711383', '10.3390/plants11010087', '10.1111/famp.12338', '10.1080/15582159.2017.1374151', 'https://doi.org/10.1093/aob/mcac046', '10.1093/auk/ukaa055', '10.1177/030630701704200205', '10.1016/j.psychres.2017.02.049', 'https://doi.org/10.1016/j.ccr.2020.213264.', '10.3390/children9030371', '10.1111/jbi.12928', '10.1007/s00251-016-0960-8', '10.1016/j.tate.2019.03.018', '10.1080/02701960.2022.2139693', '10.1007/978-3-319-29266-3_1', 'https://doi.org/10.1176/appi.ajp.2019.19090905', '10.1177/1468798416675503', '10.1089/tmj.2021.0124', '10.1080/16258312.2021.1964333', '10.1002/jaal.947', '10.1016/j.ympev.2020.106769', '10.1080/15538605.2021.1868375', '10.1177/1066480716663490', 'doi:10.1002', '10.1515/cfer-2018-070104', 'https://doi.org/10.1007/s10797-020-09632-3', '10.1097/QAD.0000000000002273', '10.1007/s10940-016-9317-6', '10.1371/journal.pone.0275235', '10.1177/0956462415595319', '10.1088/0953-8984/28/23/236004', '10.1002/chir.22627', 'https://doi.org/10.1016/B978-0-12-819475-1.00042-0 ', '10.1177/0044118X211001098', '10.1093/gigascience/giaa031', '10.1080/23322705.2021.2016268', '10.1111/1745-9125.12275', '10.1080/01634372.2016.1224787', '10.1037/fam0000574 ', '10.1128/JB.00385-19', '10.1080/19336934.2016.1165372', '10.1016/j.jad.2023.06.011', 'doi.org/10.1016/j.jms.2019.111173', '10.1080/0735648X.2022.2072364', '10.1186/s40594-021-00275-2', '10.1086/699743', '10.1111/juaf.12211', '10.1111/tpj.14668', '10.1002/ece3.5812', '10.1186/S12889-020-08902-3', '10.1016/j.omega.2016.07.007', '10.1002/ejoc.201901330', '10.1016/j.nedt.2018.05.029', '10.1016/j.bbr.2017.04.041', '10.1016/j.biochi.2022.04.010', '10.1016/j.tetlet.2018.01.029', '10.1145/3507971.3507989', '10.1038/s41477-019-0497-6', '10.1007/s00436-015-4588-7', '10.1177/00224278221096985', '10.1002/jcad.12352', '10.1080/1540496X.2016.1140456', 'doi.org/10.1016/j.jct.2018.06.017', '10.1186/s13660-017-1354-7', '10.1002/prot.24924', '10.1016/bs.mie.2022.08.040', '10.1108/IJLM-07-2021-0354', '10.1080/15377857.2016.1176612', '10.1093/bjsw/bcaa176', '10.1007/978-3-030-19318-8_5', 'https://doi.org/10.1093/fh/cry013', '10.1016/B978-0-12-816958-2.00011-3', '10.1016/j.jbankfin.2020.106027', 'https://doi.org/10.1177/2156759X21993804', 'https://doi.org/10.1007/s10711-022-00711-9', '10.1007/s11747-020-00741-3', 'https://doi.org/10.1016/j.ympev.2021.107356', '10.1007/978-3-030-52283-4_4', '10.2174/2210315506666160218232311', '0306624X19866115', '10.1016/j.jecp.2016.08.006', '10.1037/adb0000513', '10.1080/07418825.2015.1016089', '10.1201/b11261-26', '10.1093/arclin/acx115', '10.1016/B978-0-12-801713-5.00008-2', '10.1128/JB.00674-16', '10.1002/ceas.12225', '10.1016/B978-0-12-800049-6.00002-0', 'https://doi.org/10.1017/epi.2016.18', '10.1177/0096144220917471', '10.1561/0200000087', '10.1016/j.intman.2015.10.003', '10.1007/978-3-030-41995-0_12', '10.37808/jhhsa.44.4.4', '10.1177/1471301215618570', '10.1080/10412573.2017.1346394', '10.1016/j.apnu.2022.07.001', '10.3102/0091732X16687522', '10.1093/oso/9780198864790.001.0001', 'https://doi.org/10.1080/02568543.2021.1880993', '10.4324/9781315714752', 'https://doi.org/10.12957/pr.2023.75479', '10.1002/jaba.520', '10.1080/10926771.2022.2051655', '10.1038/s41380-018-0201-7', '10.1186/s12912-017-0232-4', '10.3141/2584-08', '10.1016/j.jpsychires.2019.12.003', '10.1080/00949655.2015.1046074', '10.3390/met13010078', '10.1037/per0000237', '10.1093/sleep/zsaa200', '10.1002/tcr.202100201', '10.1038/s41591-020-0922-4', '10.1038/s41380-020-00897-y', '10.2196/41421', '10.1177.0275074020942063', '10.1021/acs.organomet.0c00584', '10.1089/brain.2016.0457', '10.12957/pr.2019.38666', '10.1016/S2352-3018(22)00373-3', '10.1080/00224499.2016.1150938', '10.1007/978-3-319-29602-9_3', '10.1177/0022146516646808', '10.1111/jav.03027', '10.1037/vio0000392', '10.1177/0192513X15572368', '10.1111/tpj.13165', '10.1089/elj.2020.0650', '10:1093/jpepsy/jsu064', 'https://doi.org/10.1002/jcad.12483', '10.1007/s00284-016-1122-9', '10.1093/femsle/fnz077', '10.1002/ece3.1587', '10.21423/JUME-V13I2A409', '10.1007/s10964-019-01170-4', '10.1016/j.ijpara.2021.01.001', '10.1080/07448481.2019.1679819', '10.1016/j.jelechem.2022.116865', '10.1080/23279095.2019.1585351', '10.1097/QAI.0000000000002360', 'https://doi.org/10.1177/1540796918810670', '10.1093/eurpub/ckaa191', '10.1111/tpj.15649', '10.1016/j.frl.2021.102209', '10.1098/rspb.2022.1283', 'https://doi.org/10.15241/lal.11.1.86', '10.1108/MRR-05-2020-0272', '10.1111/nmo.12848', '10.1016/j.lana.2022.100214', 'https://doi.org/10.1177/15407969221093378', '10.1007/s00442-021-04934-7', '10.1109/ETHICS53270.2021.9632784', '10.1007/s12144-018-0048-8', '10.1111/jse.12275', 'https://doi.org/10.1016/j.jms.2017.02.009', '10.1080/00332747.2020.1794191', '10.1007/s10488-018-0908-4', '10.1007/s40865-018-0079-8', '10.4018/978-1-5225-5634-3.ch010', '10.3917/arch.162.0251', '10.1080/23279095.2013.845823', '10.1016/j.acha.2021.05.006', '10.1080/17439760.2018.1519589', '10.1037/pha0000474', '10.1016/j.childyouth.2020.104936', '10.1097/QAD.0000000000002471', '10.1016/B978-0-12-818697-8.00025-X', '10.1007/s12671-020-01495-3', '10.1016/j.finmar.2016.03.005', '10.1080/10437797.2021.1997687', '10.5664/jcsm.9796', 'https://doi.org/10.1002/ceas.12212', '10.1016/j.plantsci.2018.05.021', '10.2196/27018', '10.1111/jnu.12338', '10.1002/ajb2.1864', 'https://doi.org/10.1177%2F1532440018766907', '10.1007/s11682-014-9334-8', '10.3847/1538-3881/ab32e4', '10.1017/9781108278232', '10.1016/j.bpsc.2017.12.006', '10.1016/j.jct.2015.06.002', '10.1016/j.tetlet.2016.05.007', 'https://doi.org/10.1016/j.nurpra.2016.04.014', 'https://doi.org/10.1080/15575330.2020.1825502', 'https://doi-org.ezproxy.umsl.edu/10.1090/proc/15519 ', 'https://doi.org/10.1080/17457289.2021.1945611', '10.1038/s41559-022-01744-9', 'https://doi.org/10.1016/j.bbr.2021.113312', '10.1007/s00146-022-01440-z', 'https://doi.org/10.1080/15575330.2021.1943697', '10.4018/978-1-5225-9866-4.ch053', '10.53765/20512201.29.7.167', '10.1177/0886260516682519', '10.1007/978-3-030-00898-7_31', 'https://doi.org/10.1007/s11156-019-00850-3', '10.1038/s41398-020-0705-1', '10.3390/nano11010208', '10.1111/nph.17674', '10.1016/j.jbusres.2022.02.053', '10.1016/j.addbeh.2020.106460', '10.1080/0735648X.2015.1047465', 'https://doi.org/10.1016/j.vaccine.2022.10.067', '10.1016/j.ijme.2021.100594', '10.1177/00111287221077644', '10.1016/j.foreco.2022.120015', '10.1080/10610278.2016.1192170', '10.1177/1368430218767034', '10.1007/128_2014_583', 'doi.org/10.1016/j.cofs.2017.08.003', ' https://doi.org/10.1002/sam.11438', ' Issues in Accounting Education 2021; doi: https://doi.org/10.2308/ISSUES-2021-037', '10.1093/sf/soz127', '10.1016/j.future.2020.12.016', '10.1177/0093854815609069', '10.4324/9781351157803-16', '10.1201/9780203713402', '10.1016/j.neulet.2021.135854', '10.1080/13506285.2018.1553811', '10.1016/j.ccr.2020.213264', 'https://doi.org/10.3828/sj.2018.27.1.7', 'https://doi.org/10.1017/9781108773355', '10.1002/net.21982', '10.1016/j.jaac.2018.08.016', '10.3390/molecules27217354', '10.1093/jamia/ocaa064', '10.14516/ete.277', '10.1509/jim.16.0052', '10.1177/0271121419843995', '2022.02.14.22270972', '10.1080/15299732.2022.2117262', '10.3109/10826084.2015.978646', 'doi:10.3928/01484834-20201020-01', '10.1016/j.najef.2021.101567', '10.1111/ssqu.12363', '10.1007/978-3-030-46190-4_2', '10.1080/10538720.2021.1875947', 'https://doi.org/10.1177/1932202X221129972', '10.1007/978-94-017-7491-8_4', '10.1097/ICL.0000000000000323', '10.1016/j.cub.2016.03.009', '10.1007/s10611-022-10063-w', '10.1080/15575330.2018.1545793', '10.1016/j.landurbplan.2018.01.005', '10.1177/2156759X22110681', '10.1111/nph.16473', '10.1080/13676261.2016.1273511', '10.1093/cid/ciac466', '10.1021/acs.organomet.2c00151', '10.4324/9781003086987-18', '10.30535/MTO.28.1.2', '10.1016/j.ecns.2020.07.006', '10.3847/1538-3881/aba522', 'doi.org/10.1016/j.jms.2019.111208', 'doi: 10.1002/JFTR.12411', '10.1093/gigascience/giz117', '10.1080/02568543.2021.1880993', 'https://doi.org/10.1177/0886260520957978', 'https://doi.org/10.1094/PBIOMES-04-18-0021-R', ' https://doi.org/10.1007/s40687-021-00293-0', '10.1177/0095798420904273', '10.1016/j.jorganchem.2020.121514', '10.1111/socf.12230', '10.1021/acs.joc.8b02612', '10.1016/j.brainres.2016.08.016', '10.1201/9781315120300-31', '10.1097/QAI.0000000000000779', '10.1007/s10560-021-00741-4', '10.1016/j.ynstr.2021.100384', '10.3847/1538-3881/abfcbd', '10.1080/10538712.2022.2133041', 'https://doi.org/10.1016/j.jbusres.2022.02.053', '10.3732/ajb.1700242', '10.1177/1045159515595042', '10.1007/s10940-016-9332-7', '10.1080/07448481.2019.1583665', '10.1561/0200000070', '10.1016/j.biochi.2021.03.015', '10.1002/ejoc.201900748 ', '10.1016/j.jsat.2019.06.015', '10.1111/rati.12155', '10.1145/3072528', '10.1007/s10940-017-9345-x', '10.1117/12.2284569', 'https://doi.org/10.1016/j.jbankfin.2022.106704', '10.1111/jasp.12730', '10.1364/OE.27.027592', '10.3167/gps.2018.360102', '10.1109/TSP.2022.3171093', 'https://doi.org/10.1111/1745-9125.12196', '10.1090/proc/15519', '10.1007/s12520-021-01485-z', '10.1177/1532673X17722988', '10.1097/HTR.0000000000000700', '10.1109/TMM.2017.2687759', '10.1093/PLPHYS/KIAA002', '10.1016/B978-0-12-818630-5.07061-5', '10.1136/bmjopen-2020-041745', '10.1016/j.childyouth.2019.104422', '10.1037/aca0000363', '10.1146/annurev-criminol-032317-092202', '10.3390/d12020060', '10.1063/1.5113510', '10.1002/cft2.20188', '10.1093/plcell/koab247', '10.1108/JICES-02-2017-0015', '10.1016/j.jstrokecerebrovasdis.2018.07.014', '10.1016/B978-0-12-819475-1.00042-0', '10.1016/j.ijppaw.2018.05.006', '10.1093/bioinformatics/btw694', '10.1016/j.frl.2018.03.023', 'https://doi.org/10.1016/bs.irrdd.2020.08.001', '10.1097/INF.0000000000002427', '10.1177/1044207317739401', '10.21300/18.1.2016.5', '10.1080/15381501.2019.1689215', '10.1039/d0cc05652a', '10.1080/08824096.2016.1224162', '10.4324/9780429197277-19', '10.1016/j.saa.2016.11.030', '10.1016/j.addbeh.2016.03.039', '10.1007/978-3-319-91250-9_34', '10.1111/mmi.13370', '10.1638/2015-0111.1', '10.1016/j.drugalcdep.2017.06.026', '10.1119/1.5098920', '10.1007/s11023-017-9437-2', '10.1021/acs.jcim.5b00299', '10.4324/9781315581941', '10.1021/acs.joc.6b01439', '10.1002/bin.1632', '10.1093/bjc/azaa043', '10.1073/pnas.1810949115', 'https://doi.org/10.1080/19415257.2019.1634626', '10.1111/btp.12609', ' DOI: 10.21769/BioProtoc.2084', '10.1108/IJOEM-08-2020-0951', '10.3390/healthcare10030422', '10.1016/j.jms.2019.03.002', '10.1111/deci.12214', 'https://doi.org/10.22409/gragoata.v28i60.57719.pt', '10.1016/B978-0-12-802452-2.00020-2', 'https://doi.org/10.1016/j.cam.2020.113074', '10.1002/9781118846506.ch11', 'https://doi.org/10.1017/aap.2018.2', '10.1080/10538712.2021.1890295', '10.1002/fut.21652', '10.3389/fgene.2015.00301', '10.1097/TA.0000000000001783', '10.1080/07317115.2017.1356894', '10.1111/bioe.12373', '10.1016/j.leaqua.2021.101544', '10.1016/j.carres.2021.108482', '10.1109/TGCN.2019.2916900', 'https://doi.org/10.1016/j.ijintrel.2021.07.003', '10.4324/9780429503047-6', '10.1017/CBO9781139939621.010', '10.1177/00224278221120810', '2', '10.1016/j.jsxm.2022.02.017', '10.1039/c7ob02513k', '10.1089/aid.2017.0237', '10.1016/j.bmc.2017.03.058', '10.1016/j.jsp.2022.02.004', '10.1016/j.ijer.2020.101629', '10.1111/poms.12720', 'https://doi.org/10.1352/2326-6988-10.3.226', '10.4324/9781315130620-9', '10.1002/chem.202201180', '10.1152/advan.00141.2017', '10.1002/sam.11438', '10.1016/B978-0-12-821472-5.09990-7', '10.1016/bs.irrdd.2019.06.009', '10.1007/s13365-015-0373-8', '10.1037/adb0000174', '10.1016/j.jocs.2022.101613', '10.1080/07418825.2020.1799063', '10.1007/s10940-020-09452-y', 'DOI: https://dx.doi.org/10.4310/AJM.2017.v21.n5.a6', '10.1177/1077801219832903', '10.1650/CONDOR-15-49.1', '10.1111/jnu.12149', '10.1108/APJML-03-2017-0056', 'https://doi.org/10.1016/j.nicl.2018.07.024', '10.1016/j.najef.2015.04.003', '10.1186/s43170-021-00030-1', 'https://doi.org/10.1016/j.leaqua.2020.101459', '10.1016/B978-0-323-55228-8.00043-6', 'https://doi.org/10.3390/socsci12030121', '10.7758/RSF.2022.8.1.09', '10.1080/07418825.2016.1275748', '10.1017/epi.2016.18', '10.1093/jahist/jaac004', 'doi: 10.1097/NMD.0000000000000641', '10.1177/1078087416628686', 'DOI: 10.1515/bejm-2018-0059', '10.1177/1077801216651338', '10.1123/JPAH.2021-0243', '10.1016/j.anbehav.2020.02.007', '10.1161/JAHA.121.024993', '10.1167/iovs.16-20663', '10.1080/17517575.2020.1814422', '10.4018/IJTEPD.2019010106I', 'https://doi.org/10.1080/1533256X.2022.2047561', '10.1017/S095457941400087X', '10.1177/0011128720974312', '10.1007/s13361-019-02154-1', '10.1037/fam0000119', '10.1080/00233609.2016.1142474', '10.1007/s10995-018-2631-x', 'http://dx.doi.org/10.1037/adb0000449 ', '10.1016/j.jinsphys.2022.104464', '10.1177/2042753016672130', 'https://doi.org/10.3390/bios10010002', '10.1016/B978-0-12-819460-7.00215-2', '10.1016/j.jms.2020.111349', '10.1080/03057240.2022.2060196', '10.1097/cnj.0000000000000950', '10.15252/embr.202051871', '10.3390/vision4020032', '10.1093/her/cyaa004', '10.1002/jaal.577', '10.1111/acer.14768', '10.1016/j.qref.2022.07.003', '10.1111/1745-9133.12218', '10.1021/acs.orglett.0c01080', '10.1007/s12129-019-09860-y', '10.1177/27324745211050023', '10.1111/jnc.14973', '10.1093/milmed/usab242', '10.1016/j.dss.2022.113815', '10.1016/j.jom.2016.07.006', '10.1093/oso/9780199609932.003.0018', '10.1007/s00220-022-04374-1', '10.3847/2041-8213/aa5cb3', '10.1016/j.aim.2019.106780', '10.1080/02188791.2021.2005540', '10.1016/j.tet.2018.04.040', ' https://citejournal.org/volume-22/issue-4-22/english-language-arts/inviting-critical-literacies-into-an-online-literacy-clinic-during-the-dual-pandemics', '10.1080/0161956X.2023.2191570', '10.11646/phytotaxa.362.3.2', '10.1016/j.patter.2021.100260', 'https://doi.org/10.1080/08893675.2018.1396727', '10.1007/s10940-016-9289-6', 'https://doi.org/10.1080/23727810.2023.2195229', '10.1097/CIN.0000000000000215', '10.1186/s13104-019-4354-5', 'https://doi.org/10.1016/j.acha.2020.12.005', '10.1016/j.jsp.2020.10.001', '10.1080/02699052.2023.2165152', '10.1111/1468-0106.12379', 'https://doi.org/10.1287/trsc.2023.1205', '10.1007/s00442-016-3794-z', 'https://doi.org/10.1177/1532440018766907', 'https://doi.org/10.1016/j.jpsychires.2023.01.021', '10.1007/s11422-022-10112-9', '10.1515/pac-2017-0112', '10.1109/WiMOB.2017.8115808', '10.1080/07418825.2013.827231', '10.1093/pq/pqw038', '10.3390/insects12121086', '10.1080/13811118.2017.1387207', 'https://doi.org/10.1016/j.econmod.2020.08.016', '10.15560/16.6.1545', '10.1017/S2045796022000798', '10.1016/j.ijpsycho.2016.06.012', '10.1073/pnas.1721279115', '10.1016/j.nicl.2018.02.029', '10.2514/6.2020-3537', '10.1021/jacs.6b10303', '10.1111/josi.12151', '10.1080/17405904.2020.1823865', '10.1109/CCNC49033.2022.9700572', '10.1016/j.cobeha.2016.09.010', '10.1093/geront/gny004', 'https://doi.org/10.1002/ceas.12152', '10.1016/j.ijpsycho.2020.04.004', '10.1093/oso/9780190862305.003.0009', '10.1038/s41598-020-70181-0', '10.5114/jcb.2019.89367', '10.1007/978-3-030-43020-7_85', '10.1111/jbfa.12368', '10.1111/jnu.12198', 'http://www.jsc.montana.edu/articles/v16n13.pdf ', 'https://doi.org/10.1142/S0218348X21501255', '10.1093/bjc/azac049', '10.55533/2643-9662.1337', '10.1002/jaba.306', '10.1016/j.jaccpubpol.2021.106906', '10.1039/C9OB01610D', '10.1016/j.adolescence.2020.05.005', '10.1002/fut.21892', '10.1097/HCR.0b013e3181e1739a', 'doi: 10.1111/manc.12197', '10.1002/hbm.24003', '10.1037/pha0000489', '10.1111/1745-9133.12557', '10.1016/j.addbeh.2020.106640', '10.1007/978-3-030-60368-7_7', '10.11588/ijodr.2020.1.68010', '10.2105/AJPH.2019.305425', '10.1080/07352166.2023.2192940', '10.1002/jts.22277', '10.1111/jbi.13800', '10.1080/02568543.2021.1900714', '10.1007/s11121-019-01005-5', '10.1016/j.patter.2021.100374', '10.1007/978-3-319-43577-0', 'https://doi.org/10.1016/j.jvacx.2023.100312', '10.1021/acs.organomet.1c00003', '10.1038/s41380-020-00911-3', '10.4324/9781315093161-13', '10.1098/rsos.170005', '10.1093/swr/svw002', '10.1007/s10597-017-0190-z', '10.1177/10690727221118368', '10.1086/705735', 'https://doi.org/10.2105/AJPH.2020.305707', '10.1002/ ejoc.201801272', '10.1093/gbe/evab082', '10.4324/9780203873496-16', '10.1287/deca.2022.0461', '10.1016/j.jphotochem.2019.111966', '10.3389/fams.2018.00063', '10.1038/s41467-023-35915-4', '10.1016/j.jms.2019.05.013', '10.1016/j.adolescence.2019.04.002', '10.1016/j.jms.2019.111208', '10.1007/s40609-017-0109-1', 'doi: 10.1093/sf/sow097', '10.1007/s13361-019-02298-0', '10.1177/0022427818789752', '10.1177/088626051982976', '10.1137/20M1345517', '10.1177/0165025418780360', '10.1080/13607863.2021.1925223', '10.1016/j.drugalcdep.2019.107690', '10.1128/JB.00807-19', '10.1057/s41266-016-0008-9', '10.1089/vim.2021.0047', '10.1016/j.linged.2017.10.008', '10.1111/ele.13951', '10.1007/978-3-030-77961-0_2', '10.1016/j.anbehav.2018.05.024', '10.1177/08862605211043584', '10.1093/molbev/msx285', '10.1108/JICES-10-2015-0035', '10.1353/CDR.2021.0012', '10.1002/trtr.1692', '10.1016/j.jmb.2018.09.017', '10.1002/icd.2170', '10.1002/tesj.730', '10.3390/electronics11050743', 'https://doi.org/10.1016/j.neucom.2022.10.037', '10.1016/j.anbehav.2019.12.011', '10.1002/ecm.1496', '10.1080/0309877X.2017.1363386', 'https://doi.org/10.1080/10646175.2019.1670294', 'DOI: 10.1002/brb3.1789 ', 'http://m.www.na-businesspress.com/JLAE/JLAE15-2/CoteR_abstract.html', '10.1007/s00220-019-03372-0', '10.1039/d2nj05382a', '10.1111/1753-0407.12335', 'https://doi.org/10.3389/fams.2022.830530', 'https://doi.org/10.2308/acch-10808', '10.1093/jcr/ucab025', '10.1016/j.ijantimicag.2017.12.001', 'http://dx.doi.org/10.1057/iga.2015.3', '10.1145/3043949', '10.3390/catal9100826 ', '10.1016/j.asoc.2018.04.050', '10.1016/j.pedhc.2016.06.006', '10.1080/1554480X.2016.1229620', '10.3847/0004-637X/816/2/101', '10.1016/j.jasrep.2019.02.034', 'https://doi.org/10.1177/0301006620929970', '10.1016/B978-0-323-91948-7.00001-4', '10.1021/acs.joc.6b02151', 'https://doi.org/10.1037/trm0000360', '10.1039/c9dt01457h', '10.1039/c6dt02185a', '10.1111/geb.13434', '10.3389/fpsyg.2021.731334', '10.1109/INFCOMW.2019.8845115', '10.1007/978-3-030-20779-3_9', '10.1093/sw/sww042', '10.2308/ISSUES-2021-037', '10.1007/s00127-021-02151-4', '10.1002/jts.22112', '10.1002/jts.22698', '10.1016/j.chb.2020.106505', '10.1080/00952990.2018.1558450', '10.1016/j.endm.2018.11.010', '10.1177/0002716215602702', '10.1080/10573569.2015.1059780', '10.1016/j.plantsci.2023.111636', '10.1105/tpc.19.00510', '10.1097/NAQ.0000000000000226', '10.1089/aid.2022.0022', '10.1007/s10597-014-9819-3', '10.1016/j.jct.2018.09.012', 'https://doi.org/10.1016/j.najef.2020.101191', '10.1111/jnc.15817', '10.1002/ece3.2971', '10.4324/9781003189466-29', '10.1080/09644008.2018.1439926', 'https://doi.org/10.1002/ceas.12225', '10.1017/S0033291715002056', '10.2196/resprot.7767', 'https://doi.org/10.22409/gragoata.v28i60.57719.en', '10.1016/j.ssresearch.2018.08.008', '10.3233/JIFS-169266', '10.1016/j.jaac.2023.02.015', '10.1109/DependSys51298.2020.00021', '10.1007/978-3-030-41995-0_1', 'https://doi.org/10.1016/j.trd.2020.102668', '10.1016/j.cpr.2020.101888', '10.4324/9781315144375-12', '10.1007/s11682-018-9854-8', '10.1016/j.jhazmat.2021.127115', 'https://doi.org/10.2501/JAR-2018-037', '10.1080/10437797.2020.1714524', '10.1039/c9pp00004f', '10.4324/9781003246183-7', '10.4134/JKMS.2016.53.1.115', 'https://doi.org/10.1177/1362480620984233', '10.1007/s11089-017-0770-4', 'https://doi.org/10.1016/bs.irrdd.2020.07.002', '10.1177/1049732316668298 ', 'https://doi.org/10.1016/j.ijlcj.2002.100548', '10.1016/j.econmod.2020.08.016', '10.1137/140982441', '10.1037/TRA0000947', '10.1177/0733464818759754', '10.1111/jnc.14211', '10.1201/9781315155722-8', 'https://doi.org/10.1080/17405904.2020.1823865', '10.1021/acs.jpcc.6b11496', '10.1021/acs.jced.5b00606', '10.1080/08952841.2015.1065143', '10.1111/jar.12673', 'https://doi.org/10.1007/s12187-020-09742-8', '10.1145/3532105.3535025', '10.1017/S0140525X20001569', '10.1209/0295-5075/115/57003', 'https://doi.org/10.1080/15332640.2022.2050873', '10.3390/SOCSCI7090164', '10.1007/s11229-015-0783-4', '10.4018/978-1-5225-5469-1.ch073', '10.1111/1745-9125.12294', '10.1080/1350178X.2021.2019818', '10.1016/j.chiabu.2022.105520', '10.1109/MNET.011.2000180', '10.1007/978-1-4939-6499-4_5', '10.1016/j.eclinm.2021.100845', '10.1177/1091581815602252', '10.1093/rof/rfu016', '10.1089/tmj.2019.0124', '10.17645/si.v6i2.1367', '10.1080/23766808.2016.1258868', '10.2514/1.A34440', '10.1080/10705422.2019.1580653', '10.1080/01634372.2016.1230567', '10.1109/JIOT.2017.2767608', '10.1109/JIOT.2019.2912984', '10.1177/2381336918787187', 'DOI: 10.1016/j.carres.2019.107824', '10.2105/AJPH.2020.306017', '10.1055/s-0042-124420', '10.1145/3378539.3393843', '10.1186/s13068-018-1340-4', '10.1080/13504851.2019.1588940', '10.1016/j.trb.2022.12.007', '10.1007/s13365-017-0557-5', '10.1080/01442872.2019.1694653', '10.1016/j.jms.2022.111702', '10.1371/journal.pone.0233627', '10.1021/acs.cgd.9b01006', '10.1027/1864-9335/a000341', '10.1177/1066480720916570', '10.1080/00224499.2022.2130855', '10.1016/j.chiabu.2018.04.016', '10.4018/978-1-7998-9026-3.ch003', '10.1016/j.jct.2020.106307', '10.1080/09644008.2021.2000599', 'https://digitalcommons.unomaha.edu/ctlle', '10.1002/chem.201805527', 'https://doi.org/10.1093/milmed/usab242', '10.1097/ADM.0000000000001113', '10.1177/03611981221076130', '10.1177/03075133221130089', '10.7205/MILMED-D-16-00132', '10.1016/j.jempfin.2015.10.003', '10.1021/acs.inorgchem.7b01883', '10.1007/978-3-319-14346-0_4', '10.1007/s10940-021-09537-2', '10.1111/acer.13590', '10.1016/j.jcat.2015.12.026', '10.1080/1540496X.2017.1377608', '10.1037/tra0000970', 'https://doi.org/10.1177/0886260518818434', '10.1111/tsq.12116', '10.1016/j.biochi.2019.08.009', '10.1016/B978-0-12-818012-9.00005-8', 'https://doi.org/10.1017/S1049096521000809', 'https://doi.org/10.1016/j.najef.2021.101567', '10.1055/s-0040-1705992', 'http://dx.doi.org/10.3998/ergo.12405314.0003.025', '10.1086/704280', 'https://doi.org/10.3389/fams.2018.00063', '10.1016/j.jms.2021.111430', '10.1177/0886260520980390', '10.1002/prot.26423', '10.1111/cgf.13005', 'https://doi.org/10.1484/J.YLS.5.116154', '10.1039/c9sc03758f', '10.1007/s11067-015-9311-9', 'DOI:10.1039/C5NJ02630J', '10.1080/00036846.2020.1761009', '10.1097/QAI.0000000000002913', '10.1017/S0034412523000239', '10.1017/S1049096521000834', '10.1080/10810730.2023.2214097', '10.1017/S1355617715000879', '10.1080/01634372.2017.1310777', '10.4324/9781315685793', '10.1016/j.drugalcdep.2018.09.033', '10.1080/00952990.2022.2097917', '10.1007/978-3-319-68032-3_8', '10.2196/resprot.5488', '10.1007/978-3-031-08754-7_13', '10.1111/1745-9125.12068', '10.1002/for.2935', '10.1177/1098611110373995 ', '10.2174/1568026619666181120121528', '10.1177/1098214020917218', 'https://doi.org/10.1080/03057240.2022.2132721', 'https://doi.org/10.1002/jnr.24648', '10.1111/sltb.12526', '10.1097/NCQ.0000000000000542', '10.1111/1365-2656.12561', '10.1007/s40653-016-0098-8', '10.1016/j.apnr.2017.08.001', '10.1093/jahist/jaad004', 'https://doi.org/10.1007/s12144-022-03929-8', '10.1080/09277544.2020.1791577', 'https://doi.org/10.1016/j.pacfin.2022.101770', '10.1016/j.chiabu.2017.02.023', '10.1016/j.apnu.2022.07.026', ' https://doi.org/10.12957/pr.2023.75479', '10.1177/10887679211054418', '10.1109/PST52912.2021.9647771', '10.1042/EBC20190089', 'DOI: 10.1039/D0OB00172D', '10.4324/9780429492839', 'https://doi.org/10.1080/10410236.2017.1405476', '10.1021/acs.jpcc.7b00863', 'https://doi.org/10.1016/j.carres.2021.108482', '10.1016/j.procs.2019.12.187', '10.1049/PBPC042E', '10.1177/00224278221098053', '10.1097/QAD.0000000000002236', '10.14197/atr.201222187', '10.1136/bmjopen-2022-063102', '10.1016/j.profnurs.2021.07.001', '10.1177/15248380221093692', '10.1371/journal.pone.0273378', '10.1007/s00702-015-1434-0', '10.1016/j.paid.2023.112090', '10.1016/j.ymssp.2018.11.037', '10.1080/00224499.2017.1304519', '10.1080/15388220.2022.2132505', '10.1089/AID.2017.0237', '10.1111/1475-6773.13736', '10.1177/0033354919854479', '10.4324/9781315731544', 'https://doi.org/10.1521/soco.2022.40.5.459 ', '10.1109/TNSM.2021.3123959', '10.1007/s10597-017-0158-z', '10.1287/msom.2015.0526', 'doi: 10.1016/j.bmc.2015.10.044', '10.1080/01933922.2019.1669751', '10.1149/2.F05162if', '10.1177/1066480720973420', '10.1177/0886260520929654', '10.1080/07370016.2012.645724', '10.7589/2018-10-248', '10.1007/s13361-018-1973-3', '10.4324/9781315097763', '10.1002/mpr.1781', '10.1007/s11682-019-00144-1', '10.1111/oik.02426', '10.1016/j.ctarc.2021.100459', '10.1037/sgd0000488', '10.2308/ISSUES-18-117', '10.1016/j.jclepro.2020.124515', 'https://doi.org/10.1177/00220574211026908', '10.3233/JVR-191019', '10.1016/j.ejmech.2020.112908', '10.1016/j.nicl.2017.01.030', '10.1021/acs.orglett.6b01102', '10.1002/1873-3468.14624', '10.1080/0740817X.2015.1110649', '10.1177/00333549221089254', '10.1002/jocc.12177', '10.1039/c6ob02498j', 'https://doi.org/10.3390/coatings11121440 ', '10.1016/j.frl.2022.102797', '10.1007/s10461-017-1744-3', 'https://doi-org.ezproxy.umsl.edu/10.1080/13668803.2022.2055997', '10.1002/jts.22890', 'https://doi.org/10.1080/00207543.2020.1762018', '10.1016/j.chiabu.2019.104290', '10.1521/pedi_2015_29_197', 'https://doi.org/10.1111/jonm.13285', '10.1037/per0000304', '10.1080/03057240.2017.1350149', '10.1007/s13365-020-00873-w', '10.4324/9781315611884', '10.3847/1538-3881/ab24c0', '10.1649/0010-065X-74.4.714', '10.53765/20512201.29.7.226', '10.1016/j.molp.2020.12.003', '10.1177/0921374020934502', '10.3791/65065', '10.1016/S0140-6736(16)31390-3', '10.1002/ecy.3687', '10.1177/0148558X221115482', '10.1007/s00040-017-0585-4', '10.1111/1745-9125.12154', '10.1177/0096144217712929:', '10.1080/15228053.2016.1183424', '10.1039/d0ob01782e', 'DOI:10.54111/0001/QQ4', '10.1097/JCN.0b013e31819b54de', '10.1016/j.jvacx.2023.100270', '10.1080/19317611.2022.2053027', '10.1145/3015149', '10.3390/catal9100826', '10.5194/bg-14-4663-2017', '10.1016/B978-0-12-819475-1.00006-7', '10.1002/9781119487593.ch25', '10.12705/653.43', '10.1097/QAI.0000000000002677', '10.1080/01639625.2014.977187', '10.1111/jnu.12250', '10.1080/1533256X.2022.2047561', 'doi.org/10.1177/1078390318784360', '10.1093/oso/9780190686673.003.0010', 'https://doi.org/10.1016/j.jrurstud.2020.07.005', 'https://doi.org/10.1177/2156759X231165495', '10.1177/0886260516681157', '10.1002/ijch.201700050', '10.1111/jbi.12653', '10.1146/annurev-ecolsys-110218-024804', '10.1080/00224499.2017.1301357', '10.1007/978-3-319-73585-6_18', '10.1007/978-3-031-10453-4_17', '10.6504/JMBR.202012_37(4).0006', '10.3390/children9040495', '10.1017/S0034412522000130', '10.3390/polym14163355', '10.1111/fire.12262', '8.90E+14', '10.1016/j.apnu.2018.04.002', '10.1037/vio0000249', 'https://doi.org/10.1016/j.jms.2021.111430', '10.1080/08897077.2019.1616348', '10.1016/j.comppsych.2006.05.001', 'https://doi.org/10.1016/j.ejor.2021.10.061', '10.1007/s13361-017-1804-y', '10.1016/j.cplett.2016.02.006', '10.1007/s11187-022-00695-6', 'https://doi.org/10.3390/jrfm16030181', '10.1002/jcc.26991', '10.1016/j.jana.2018.02.010', '10.3390/coatings13020381', '10.1111/ele.13392', '10.1016/j.amjcard.2018.06.056', '10.5465/AMBPP.2019.87', '10.1007/s11245-015-9323-6', '10.1016/j.jms.2021.111517', '10.1016/B978-0-12-409548-9.11788-9', '10.1145/3491101.3519840', '10.1007/s13361-015-1298-4', '10.1111/1365-2664.13907', '10.1007/s10803-017-3363-2', '10.1111/phc3.12320', '10.1007/978-3-030-73100-7_52', '10.1093/melus/mlz051', '10.1038/s41380-020-00967-1', '10.1093/oxfordhb/9780199657889.013.9', '10.1109/CEC.2016.7748328', '10.1080/15313204.2015.1134373', 'DOI 10.1002/jcop.22265.', 'https://doi.org/10.1016/j.acha.2019.06.002', '10.1016/j.crma.2018.10.004', '10.4310/PAMQ.2021.v17.n5.a5', '10.1111/jvec.12292', '10.1007/978-3-319-29602-9_11', '0.3390/app9204361', '10.1111/brv.12374', '10.1037/vio0000356', 'http://dx.doi.org/10.1037/str0000060', '10.1007/978-3-319-32467-8_1', 'https://doi.org/10.1007/s10447-022-09479-9', 'https://doi.org/10.1002/ceas.12094', '10.1007/s12144-021-01398-z', '10.1002/ece3.5356', '10.1111/ele.13264', '10.1002/ecy.1534', '10.1891/JDNP-2021-0013', '10.1016/j.apnr.2018.03.008', '10.1007/s10867-023-09627-1', '10.1111/coep.12117', '10.1108/ETPC-07-2019-0092', 'https://onlinelibrary.wiley.com/doi/10.1111/jmcb.12580', 'https://doi.org/10.1016/j.sigpro.2022.108683', '10.1007/s10551-019-04211-x', '10.1016/j.ribaf.2017.07.159', '10.1016/j.jad.2020.03.053', '10.1080/02699052.2018.1494853', 'https://doi.org/10.1080/10522158.2016.1233922', '10.1016/j.abb.2016.03.017', '10.3233/WOR-192904', '10.1021/acs.inorgchem.0c01937', 'https://doi.org/10.1101/2020.05.29.124750', '10.1016/j.jcomm.2020.100149', '10.1177/2167702619841976', '10.1108/EJM-08-2019-0655', 'https://doi.org/10.1075/ijolc', 'https://doi.org/10.1016/j.jpsychires.2022.10.070', '10.1007/s11266-020-00218-5', '10.1016/j.jct.2016.03.020', 'doi.org/10.1016/j.molstruc.2020.128024', '10.1016/j.chiabu.2017.11.020', '10.1186/s12954-023-00734-9', '10.1177/0093854820928568', '10.1016/j.nedt.2020.104689', '10.1097/OPX.0000000000001597', '10.1016/j.jallcom.2018.03.345', '10.1007/s10672-022-09416-3', '10.1109/MCI.2022.3162033', '10.1016/j.bpsc.2016.07.004', '10.1093/ahr/123.3.739', 'https://doi.org/10.1016/j.addbeh.2018.12.010', 'doi:10.1002/imhj.21831', '10.1177/0886260519835007', '10.1007/s10940-015-9277-2', '10.1038/srep27662', '10.1080/15401383.2019.1602092', '10.1371/journal.pone.0187953', '10.1093/oso/9780190858988.003.0011', '10.1007/s10444-020-09814-x', '10.1089/AID.2020.0203', '10.1038/s41467-018-05535-4', 'http://dx.doi.org/10.1891/JDNP-D-20-00031', 'doi: 10.1016/j.biochi.2021.03.015', '10.1002/ceas.12227', '10.1017/S1049096521000809', '10.1177/0733464819868057', '10.1016/j.ijhydene.2021.07.015', '10.1007/s13365-022-01073-4', '10.1145/3144592.3144598', '10.4324/9780429496202', '100758', '10.1080/08897077.2021.1876199', '10.1016/j.biocon.2017.02.015', '10.1038/mp.2015.149', '10.1097/INF.0000000000001852', '10.1089/neu.2020.7100', '10.1108/JSMA-07-2022-0127', '10.1007/s10940-018-9377-x', '10.1007/s40615', '10.4018/978-1-5225-2069-6.ch011', 'https://doi.org/10.1177/0007650320965154', 'https://doi.org/10.5430/ijba.v8n6p1', 'doi.org/10.1016/j.ica.2017.05.019', '10.1016/j.stueduc.2020.100866', '10.1007/s10508-019-01609-6', '10.1007/s11442-022-1947-z', '10.1177/0890334421999304', '10.1177/1066480718795708', '10.1038/s41467-020-17311-4', '10.1177/00343552231155218', 'https://doi.org/10.3390/molecules28062729', '10.1007/s13365-020-00882-9', 'https://doi.org/10.1177/03611981231167153', '10.1080/08838151.2022.2057985', '10.1111/japp.12604', '10.1002/ecy.3765', '10.1142/S1793005716500162', '10.1109/ICNF.2017.7985928', '10.5325/utopianstudies.31.1.0025', '10.1007/s10997-020-09548-4', '10.1016/j.jphotobiol.2018.01.017', '10.1016/j.parco.2019.02.003', 'https://doi.org/10.1016/j.frl.2022.102797', '10.1097/JAN.0000000000000207', '10.1177/1932202X18801274 ', '10.1002/smi.2933', '10.1016/j.neuroscience.2017.08.055', '10.1364/OE.25.020233', '10.4324/9781351318488-8', '10.1177/2153368716688740', 'https://doi.org/10.22339/jbh.v4i3.4310 ', '10.2196/11963', '10.1002/ejic.201600199', '10.1093/scipol/scz039', '10.1094/PBIOMES-04-18-0021-R', '10.1111/1745-9125.12196', '10.1017/9781316387887.008', '10.1007/s13365-015-0409-0', '10.1089/tmr.2021.0013', 'https://doi.org/10.1007/s00040-023-00904-9', '10.1002/trtr.1820', 'doi:10.1002/jnr.24631', '10.3928/01484834-20180420-10', '10.1016/j.brainres.2022.148099', '10.1080/01972243.2022.2078916', '10.1111/1745-9125.12264', '10.1016/j.jct.2018.12.013', '10.1074/jbc.RA117.000760', '10.1080/19415257.2019.1634626', '10.1111/geb.13610', '10.1016/j.jat.2015.02.008', '10.1108/JICES-07-2017-0041', '10.1109/VTC2020-Spring48590.2020.9129056', '10.1080/08965803.2022.2107155', '10.1016/j.jpaa.2016.10.019', '10.1080/00958972.2021.1878352', '10.1080/10615806.2021.1964072', '10.1016/j.chiabu.2021.105266', '10.1007/s10847-021-01072-8', '10.1039/c6ob01726f', '10.1080/02699052.2016.1222080', '10.1111/cch.12418', '10.1177/0018720815581247', '10.1111/ecog.06125', '10.1016/j.apnum.2017.02.005', '10.1080/15313204.2020.1870602', '10.3390/diagnostics13020299', '10.1111/btp.12295', '10.1016/j.jecp.2017.08.004', '10.1109/GIIS50753.2020.9248493', '10.1136/ebmental-2022-300540', '10.1037/ppm0000160 .', '10.1111/btp.12922', '10.1089/aid.2020.0203', '10.3390/app9204361', '10.1080/15596893.2019.1992832', 'https://www.doi.org/10.1017/S0261444821000446', '10.1017/S1049096518000550', '10.1080/1533256X.2017.1302883', 'DOI: https://doi.org/10.1017/S0034412522000130', '10.1111/geb.13596', '10.1177/0748175615596581', '10.1007/s10021-017-0136-x', 'https://doi.org/10.1016/j.dsp.2021.103262', '10.1177/0956462417722128', '10.1080/1097198X.2018.1435001', '10.1039/c7dt04366j', '10.1057/9781137509888_1', '10.1097/QAI.0000000000001752', '10.1177/0022487120954360', '10.1093/rof/rfv045', '10.1111/jonm.13285', '10.1002/pits.22636', '10.1105/tpc.18.00675', '10.1108/IJAIM-05-2015-0027', '10.1111/1365-2435.13641', '10.1038/s41598-023-31826-y', '10.1557/mrs.2017.298', '10.1080/10826084.2023.2205518', '10.1037/pha0000540', '10.3390/ijerph182010843', '10.1515/zpch-2015-0746', '10.1016/j.ijhydene.2019.01.211', '10.1016/j.jpain.2021.10.003', '10.1016/j.retrec.2019.100758', '10.4102/phcfm.v11i1.2095', ' https://doi.org/10.3390/separations9020044', '10.1016/j.ympev.2021.107356', 'https://blogs.umsl.edu/news/2022/01/31/jerome-morris-public-lecture-series/', '10.3389/fpsyg.2020.00822', 'https://doi.org/10.1080/02650487.2019.1612622', 'http://m.www.na-businesspress.com/JLAE/JLAE15-1/Cote_abstract.html', '10.1021/acs.joc.1c02351', '10.1016/j.apnr.2019.151228', '10.1016/j.cam.2020.113074', '10.3389/fnbot.2022.846979', '10.1097/QAI.0000000000002832', '10.1007/s12144-020-01342-7', '10.1016/j.geoforum.2017.03.029', '10.1109/IGARSS.2018.8518246', '10.1201/b11261-25', '10.1097/QAI.0000000000002683', 'https://doi.org/10.7290/tsc010201', '10.1080/10410236.2017.1405476', '10.11646/phytotaxa.275.1.8', 'https://doi.org/10.7290/tsc020101', '10.1098/rsos.192211', '10.1016/j.evalprogplan.2016.06.010', '10.4324/9781315394503', '10.1177/00938548231162083', '10.1016/j.sigpro.2017.03.007', '10.1016/B978-0-323-54456-6.00013-X', 'https://doi.org/10.1016/j.addbeh.2022.107455', '10.1080/15332640.2018.1511492', '10.1080/0735648X.2014.1003577', '10.1201/9781315120300-1', '10.1007/s10567-016-0210-5', '10.1177/1077559520927472', 'DOI:10.1177/1077801216658977', 'https://doi.org/10.1177/1078087420975203', '10.1007/978-3-319-26485-1_13', 'https://onlinelibrary.wiley.com/doi/abs/10.1111/jssr.12332', '10.1016/j.omega.2016.08.013', '10.1027/0269-8803/a000211', 'https://doi.org/10.1177%2F13623613221113501', 'https://doi.org/10.1093/molbev/msw035', '10.1093/swr/svx012', '10.1016/j.brat.2015.12.013', '10.1177/1088767919848821', '10.1086/686223', '10.1016/j.pmedr.2022.101977', '10.1142/12930', '10.1007/978-3-319-29272-4', '10.1007/s11682-015-9444-y', '10.3102/0013189X20912754', '10.1177/0887403418817808', '10.1111/lasr.12623', '10.1177/1046496419889660', '10.1007/s10615-020-00765-w', '10.3726/b17254', '10.1007/s12228-016-9453-1', 'https://doi.org/10.1080/1743727X.2018.1492535', '10.5430/jnep.v6n2p1 ', '10.1002/ece3.9697', '10.1097/JXX.0000000000000361', 'https://doi.org/10.1080/10705422.2019.1580653', '10.1007/s10508-019-01577-x', '10.1007/s00521-021-05884-0', 'Bertram, J., Archives of Psychiatric Nursing (2018), https://doi.org/10.1016/j.apnu.2018.04.002', '1080/13430194.2018 1491290', '10.1891/VV-D-20-00027', '10.1037/gpr0000104', '10.1016/j.jfi.2022.100958', '10.1145/3108149', '10.1007/978-3-319-29266-3', '10.1063/9.0000003', 'doi: 10.1037/tra0000047', '10.1039/D0OB01782E', '10.1080/09602011.2019.1678490', '10.1002/pits.22020', 'https://doi.org/10.1016/j.jimonfin.2019.102100', '10.1016/j.poly.2021.115324', '10.1109/MC.2020.3038516', '10.1002/jaal.734', '10.1002/imhj.21831', '10.1016/j.brat.2018.02.002', '10.4018/978-1-7998-7744-8.ch008', '10.1177/0886260521991883', '10.1016/j.racreg.2018.03.007', '10.1016/j.jvb.2021.103646', '10.7758/RSF.2022.8.1.05', 'https://doi.org/10.1016/j.bpsgos.2023.02.004', '10.3390/su15107904', 'https://doi.org/10.1080/07448481.2019.1679819', '10.3390/separations9020044', '10.1080/08897077.2017.1303424', '10.1111/jnu.12803', '10.1097/PSY.0000000000000728', '10.1016/j.ijcard.2017.10.064', '10.3389/frsc.2023.1100470', 'https://doi-org.ezproxy.umsl.edu/10.1111/oik.05115', '10.1109/JIOT.2020.2966924', 'https://doi.org/10.1017/S1049096518000550', '10.1002/btpr.3153', '10.4324/9781315640242', '10.1002/ajcp.12317', '10.1186/s12889-021-11471-8', 'https://doi.org/10.1177/1532673X17722988', '10.1016/j.ejor.2022.12.038', '10.4018/978-1-5225-0703-1', '10.1007/s10940-015-9265-6', '10.2147/OPTO.S84795', '10.1080/14680777.2016.1213307', '10.1177/0301006620929970', '10.1177/0044118X211046637', 'https://doi.org/10.1016/j.childyouth.2022.106740', '10.1017/epi.2016.13', '10.1187/cbe.16-01-0048', '10.3390/su11102937', '10.1007/s11133-018-9374-2', '10.1109/JBHI.2021.3053909', '10.3233/JVR-170883', '10.1007/s10940-021-09510-z', '10.1080/10376178.2022.2147850', '10.1177/2158244015612524', '10.1016/j.lana.2022.100419', '10.1097/QAD.0000000000002436', '10.1016/j.jad.2018.02.053', '10.1002/brb3.1789', '10.1080/09518398.2017.1309587', '10.1177/1043986220965035', '10.1177/0306624X19866115', '10.1021/acs.inorgchem.8b02489', '10.1097/QAI.0000000000002435', '10.1002/fut.22115', '10.1177/0886260520957978', '10.1002/jnr.24631', '10.1080/19388071.2022.2134064', '10.1016/j.jcomm.2022.100309', '10.1016/j.neurobiolaging.2016.03.014', '10.1016/j.biochi.2016.04.022', '10.1017/iop.2018.6', '10.1177/2165143418813912', '10.1002/ecy.1783', 'https://doi.org/10.1080/00958972.2021.1878352 ', '10.1007/s40865-019-00106-7', '10.1007/s10672-022-09427-0', '10.1057/9781137509888_6', '10.1007/s12671-015-0426-3', '10.3390/socsci12030121', ' 10.12957/pr.2019.38666', '10.1111/jvec.12264', 'https://doi.org/10.1063/1.5017958 ', '10.1038/srep31282', '10.1002/ece3.9614', '10.1186/s13068-021-01899-w', '10.1080/15332985.2017.1350615', '10.1016/j.ijpe.2017.03.011', '10.1093/oso/9780190858988.003.0012', '10.1016/j.jcrimjus.2020.101657', '10.1177/1541204017739678', '10.1021/acs.jpcc.5b06260', '10.3390/diagnostics12030741', '10.11612/RESPHIL.2045', '10.1111/1745-9125.12174', '10.1186/s12864-017-3692-8', '10.1016/j.jbusres.2021.12.003', '10.1007/s13365-016-0467-y', '10.1039/d1ra05788j', 'https://doi.org/10.1111/jir.13003', '10.4324/9781315157962', '10.1073/pnas.1523683113', 'https://doi.org/10.1007/s40616-018-0099-9', '10.1186/s40589-016-0032-0', 'https://doi.org/10.1080/23727810.2021.1893577', '10.1093/jahist/jax001', 'https://doi.org/10.34043/swc.v46i3.81', '10.3390/molecules28062729', '10.3928/01484834-20190819-10', '10.1177/23779608221140719', '10.1177/10422587231173687', '10.3389/fneur.2021.602263', '10.1007/s00415-016-8236-7', '10.1007/s10940-015-9254-9', '10.1128/mBio.01519-19', '10.1097/QAD.0000000000002831', '10.1002/ajb2.16199', '10.1108/MAJ-02-2016-1321', '10.1109/WSC40007.2019.9004938', '10.1016/j.tre.2022.102736', '10.1016/B978-0-12-809324-5.24210-7', '10.1093/sw/sww058', '10.1111/j.1532-5415.2010.02796.x', '10.1002/net.21863', '10.1007/s10764-019-00105-x', '10.1561/0200000068', '10.1016/j.soard.2012.10.008', '10.1186/s12954-021-00583-4', '10.1186/s13071-019-3835-7', '10.1039/d3cp01252b', '10.1111/joes.12189', '10.29411/ncaw.2022.21.3.5', '10.1007/s11481-015-9610-4', '10.1016/j.whi.2018.04.011', '10.1145/3180465.3180470', '10.1007/s12144-018-0042-1', '10.1080/07328303.2018.1462372', '10.1080/15582159.2022.2088080', '10.1016/j.omega.2021.102446', '10.1111/fire.12095', '10.1016/B978-0-323-65384-8.00003-1', '10.1016/j.cct.2023.107257', '10.1177/1049732319895252', '10.3390/APP10155388', '10.1177/1745506520905720', '10.1186/s12872-020-01470-9', '10.3847/1538-3881/acc074', 'http://dx.doi.org/10.1080/26408066.2021.2001402', '10.1215/0041462X-3485002', '10.5406/21521123.59.4.06', '10.1007/s41134-020-00155-9', '10.1016/j.plipres.2016.01.002', '10.1080/15374416.2016.1157755', '10.3389/fpsyg.2018.00615', '10.1016/j.pacfin.2022.101775', '10.1007/s11948-017-0006-0', '10.1080/10835547.2016.12089986 ', '10.1126/science.aal3345', '10.4324/9781315619361', '10.4324/9781315474687-35', '10.1007/978-3-030-69770-9_18', '10.7758/RSF.2022.8.1.08', '10.1111/bioe.13162', '10.1093/beheco/arz172', ' https://doi.org/10.1002/ace.20430', '10.1176/appi.psychotherapy.2015.69.2.97', 'https://doi.org/10.1016/j.econmod.2021.02.011', 'http://rspb.royalsocietypublishing.org/content/royprsb/283/1843/20161564.full.pdf', 'https://doi.org/10.1108/SCM-02-2020-0047 ', '10.1039/c6ob02230h', '10.1007/s40865-015-0023-0', '10.1080/24751979.2019.1689152', '10.1097/PSY.0000000000001129', '10.1007/s11524-023-00736-9', '10.1038/srep36172', ' https://doi.org/10.1002/rrq.272', '10.4018/978-1-7998-3432-8.ch013', '10.1093/jxb/erv402', '10.1037/tra0001002', '10.1016/j.jpeds.2017.04.047', '10.14321/nortafristud.19.2.0031', 'https://doi.org/10.1307/mmj/20195790', '10.1021/acs.joc.2c00905', ' https://doi.org/10.1111/jcal.12347', '10.1111/1745-9125.12170', 'https://doi.org/10.1142/S0219530520400047', '10.1097/NNE.0000000000000635', '10.1007/s11682-016-9540-7', '10.1093/bjc/azy040', 'https://doi.org/10.1016/j.jnma.2021.06.002', '10.1007/s10566-020-09552-7', '10.1128/JB.00715-16', 'http://dx.doi.org/10.1080/10610278.2016.1192170', '10.4324/9781315708928', '10.1080/10357823.2020.1764491', '10.1016/j.ffa.2017.07.012', '10.1063/1.5017958', '10.1007/978-3-319-16934-7_97', '10.1177/0093854816643122', '10.1093/jxb/ery146', '10.1016/j.catcom.2017.12.014', '10.1037/neu0000851', '10.1016/j.soilbio.2021.108163', 'https://doi.org/10.1080/15401383.2018.1459214', '10.1557/s43580-021-00022-3', '10.1038/s41380-023-02012-3', '10.1177/0894845319832972', '10.1111/1745-9133.12414', '10.1016/j.jct.2022.106778', '10.1016/j.childyouth.2018.06.001', '10.1111/cxo.12500', '10.1021/acs.jpcc.6b03374', '10.1021/jacs.6b02405', '10.1080/09277544.2021.1876433', '10.4324/9781315128696', '10.1021/acs.jpcc.2c07919', 'https://doi.org/10.1016/j.jsp.2022.02.004', '10.1111/1745-9133.12174', '10.1016/j.psychsport.2015.03.008', '10.1016/j.jpsychires.2015.10.005', '10.1093/jmammal/gyaa085', '10.1080/1097198X.2019.1701641', '10.1016/j.jbankfin.2022.106704', '10.4324/9780429496592-21', '10.1177/00111287211005398', '10.4102/PHCFM.V11I1.2095', '10.1146/annurev-anthro-041420-112543', '10.1086/722235', '10.1039/d0ob00172d', '10.1002/dmrr.3364', '10.3102/0034654316628993', 'DOI: 10.1177/0020872815603787.', '10.1002/chem.201905277', '10.1177/1359105320934166', '10.1007/s10643-015-0740-3', '10.1016/j.ijppaw.2017.07.001', '10.1016/j.addbeh.2018.12.010', 'https://doi.org/10.1111/jbl.12338', '10.1086/707672', '10.3764/aja.123.3.0349', ' ', '10.1039/c8ra07641c', '10.1111/psj.12152', 'https://doi.org/10.3390/socsci7090164', '10.1007/s11682-017-9769-9', '10.4314/ahs.v21i2.43', 'https://doi.org/10.1080/19313152.2021.1889112', '10.1177/0021886316668748', '10.1037/adb0000561', '10.3102/0013189X20932454', '10.1002/pits.22194', '10.1007/s13365-021-00993-x', '10.4018/978-1-7998-9785-9.ch011', '10.4324/9781315773483', '10.1509/jim.16.0070', '10.1371/journal.pone.0260687', 'https://doi.org/10.1007/s10896-020-00193-x', '10.1038/s41598-019-50323-9', '10.3390/ani11092661', '10.1111/evo.13297', ' https://doi.org/10.1111/jasp.12730', '10.1007/s11750-017-0457-0', '10.1080/10826084.2016.1268629', '10.1021/acs.jpcb.8b06903', '10.1037/rep0000193', '10.1021/acs.organomet.2c00215', 'https://doi.org/10.1177/2165143420988492', '10.1097/QAD.0000000000002182', '10.4018/978-1-6684-3706-3.ch066', 'doi:10.1002/trtr.1820', '10.1080/15564886.2023.2197632', '10.1007/978-1-0716-0195-2_15', '10.1007/978-3-031-16437-8_37', '10.1080/00952990.2020.1793159', '10.1007/s11121-017-0838-5', '10.1093/ntr/ntr168', '10.1111/add.13890', '10.1089/aid.2019.0240', '10.1016/j.pscychresns.2023.111671', '10.1080/07347332.2020.1778150', '10.1007/978-3-319-62217-0_66', '10.1080/03098265.2020.1833845', '10.4324/9781351318488-5', '10.1177/17456916221148142', '10.4324/9780429503306', '10.1080/00224499.2016.1146651', '10.1177/0741932519835926', '10.1080/08897077.2020.1867288', '10.1016/j.racreg.2018.09.004', '10.1007/s13365-020-00827-2', '10.1016/j.anbehav.2019.11.007', '10.1177/1078390318784360', '10.1017/S1742058X18000097', '10.5194/bg-13-2537-2016', '10.1136/bmjopen-2022-063617', '10.1038/s41559-021-01452-w', '10.3389/fvets.2019.00122', '10.1128/JB.00827-16', '10.4018/978-1-5225-0741-3.ch001', '10.1007/s00592-015-0832-y', 'https://doi.org/10.1016/j.brainres.2022.148099', 'https://doi.org/10.1177/0033354919854', '10.1080/01494929.2021.1875159', '10.1016/j.ijcha.2018.11.004', '10.1016/j.jms.2016.02.011', '10.1111/geb.12826', '10.1016/j.jflm.2022.102446', '10.5195/ie.2020.132', '10.1177/1053451221994814', '10.1007/s00041-018-9619-1', '10.1002/fut.21715', '10.1037/per0000175', '10.1007/s00213-021-05925-5', '10.1177/1742395317703175', '10.1080/08952841.2021.1967070', '10.3389/fpsyg.2022.999057', '10.1111/1745-9125.12330', '10.1016/j.trd.2023.103609', '10.1038/s41467-023-36155-2', '10.1016/j.enpol.2021.112550', 'https://doi.org/10.1016/j.frl.2021.102209', '10.1016/j.vaccine.2022.10.067', 'https://doi.org/10.1090/mcom/3205', '10.3390/metabo12050385', 'https://muse.jhu.edu/article/645406/pdf ', '10.1177/08862605221141930', '10.1111/infa.12275', '10.1111/btp.12987', '10.1111/btp.12465', '10.1097/PSY.0000000000001134', '10.1080/14783363.2018.1493919', '10.1093/molbev/msx285.', '10.3390/app9061066', '10.1016/B978-0-12-809633-8.01276-0', '10.1016/j.ijpe.2019.04.024', '10.1177/0894845319827652', 'https://doi.org/10.1007/s12129-019-09860-y', '10.1352/1944-7558-121.5.398', '10.1002/jts.22386', '10.1016/j.orgdyn.2015.12.003', '10.1080/15309576.2018.1444645', '10.1007/s40299-015-0236-3', '10.1037/tra0000952', '10.1016/j.chiabu.2018.01.009', '10.1038/s41598-023-28132-y', '10.1007/s13365-022-01085-0', '10.1037/a0040113', 'https://doi.org/10.1108/JKM-07-2020-0501', '10.1016/j.jecp.2016.03.005', '10.1016/j.bbr.2022.113999', 'https://doi.org/10.1016/j.pedhc.2017.04.001', '10.1017/S0040557419000437', '10.3726/b19573', '10.1097/QAI.0000000000001619', 'https://doi.org/10.1360/TB-2022-0054.', '10.1177/08862605221127188', '10.1016/j.jallcom.2022.165272', '10.1021/acs.jchemed.9b00870', '10.1177/0921374020934510', '10.3390/rs10040629', '10.1016/bs.accb.2017.10.002', '10.1080/15575330.2021.1943697', 'DOI: 10.1111/1755-0998.13272', '10.1145/3591355', '10.1111/jbi.12936', '10.1016/j.biopsycho.2018.05.013', '10.1016/j.dcn.2020.100804', '10.1086/687855', '10.1109/JIOT.2018.2878154', '10.1080/10538712.2020.1733160', '10.3390/insects11070422', '10.4324/9780429315046', '10.1007/s10489-022-03923-4', '10.1037/tra0001308', 'doi: 10.1017/S0047279420000392', '10.1016/j.icarus.2019.113411', '10.7758/RSF.2022.8.1.07', 'https://doi.org/10.1177/2165143421993027', 'doi: 10.1016/j.psychres.2016.04.039', '10.1007/s11145-018-9839-4', '10.1037/ccp0000059', '10.1037/abn0000611', '10.3390/diagnostics12030765', '10.5664/jcsm.7930', '10.1016/j.jfs.2020.100838', '10.1002/ecy.3639', '10.1002/ecy.1536', '10.1016/j.childyouth.2020.104936  ', '10.1027/1864-9335/a000520', '10.1111/pce.13023', 'https://doi.org/10.1080/01442872.2019.1694653', 'https://doi.org/10.1108/SCM-12-2022-0457', '10.1016/j.psychres.2023.115178', 'https://doi.org/10.1007/s11005-020-01323-8', '10.1111/jnc.14674', '10.1177/1049732316689067', '10.1080/10646175.2019.1670294', '10.1002/ejoc.202200300', '10.1007/s11005-020-01323-8', '10.1111/ssqu.13088', '10.1016/j.eswa.2020.114475', '10.1097/QAI.0000000000002907', '10.1177/0891243218759006', '10.4310/AJM.2017.v21.n5.a6', '10.1002/9781119038276.c25', '10.1177/0739986317734325', '10.1016/j.jpsychires.2020.01.009', '10.1007/s11858-018-0916-6', '10.1007/s10973-016-5342-9', '10.1021/acs.analchem.0c01640', '10.1521/soco.2019.37.3.341', '10.1111/icad.12246', 'doi/10.1177/1088767919848665', '10.1007/s10935-020-00585-1', '10.1037/adb0000449', '10.1016/j.pec.2016.03.010', '10.1007/s10488-021-01169-9', '10.1080/00043125.2022.2103356', '10.1080/13504851.2019.1688239', '10.1177/1096250620950249', '10.1007/s10940-021-09493-x', '10.1016/j.soard.2010.09.015', '10.1177/1069031X18809999', '10.1007/978-3-319-29266-3_6', '10.1016/j.bmc.2022.117031', '10.1021/acsami.6b16822', '10.1021/acs.inorgchem.0c01763', '10.1002/pld3.167', 'https://doi.org/10.1177/14624745221128102', 'https://doi.org/10.1007/s10490-020-09746-6', '10.1111/ajad.12831', 'https://doi.org/10.14197/atr.201222187', '10.1016/j.jct.2019.06.011', '10.4324/9780429046803-18', '10.1080/00224499.2017.1295014', '10.1007/s11146-022-09934-9', '10.1038/srep34394', '10.1111/1745-9125.12328', '10.1080/1533256X.2015.1124783 ', '10.1016/j.hrthm.2019.11.026', '10.1109/ICCWAMTIP53232.2021.9674078', '10.1080/26408066.2021.2001402', '10.1111/1365-2745.13376', '10.1111/soc4.12413', '10.1111/tpj.14805', '10.1007/s10488-014-0621-x', '10.1016/j.paid.2015.07.009', '10.1016/j.physb.2020.412767', '10.1038/s41598-017-04002-2', '10.1093/asj/sjab434', '10.1021/acs.joc.9b02701', 'https://doi.org/10.1016/j.sigpro.2019.07.024', '10.1037/tra0000561', '10.1007/s10896-020-00193-x', '10.1109/Blockchain.2019.00078', '10.1080/07481187.2014.958627', '10.1108/LODJ-03-2021-0137', '10.1111/oik.05115', '10.1075/ijolc.00035.mil', '10.1097/HTR.0000000000000758', '10.1080/14681994.2018.1435863', '10.1007/978-3-030-05831-9_17', '10.1111/acer.12889', 'doi: 10.1098/rsos.192211', '10.1155/2019/8535206', '10.1002/tesj.240', '10.1080/15564886.2015.1065532', '10.1080/10410236.2013.836733', '10.1007/s11292-017-9309-z', '10.1088/1361-6420/ac65ac', '10.1007/s00127-017-1461-2', '10.1007/s40429-023-00489-0', '10.1177/0042085916682571', '10.1080/17460263.2019.1630477', '10.1109/ACCESS.2019.2902882', '10.1016/j.psychsport.2016.09.001', '10.1109/MC.2022.3206840', '10.1016/j.rse.2021.112845', '10.1007/s40865-020-00156-2', 'https://doi.org/10.1016/j.jms.2020.111349', '10.1016/j.ijms.2015.12.005', 'https://doi.org/10.1007/s13644-019-00372-3', '10.1080/13607863.2022.2150143', '10.1080/14719037.2021.1977525', '10.1017/S1431927620022953', '10.3356/rapt-50-01-33-44.1', '10.1111/boj.12385', '10.1037/vio0000103', '10.1177/00400599211068143', '10.1097/NAQ.0000000000000223', '10.1109/ACCESS.2016.2514898', '10.1016/j.frl.2022.102693', '10.1080/0735648X.2017.1329784', '10.1002/pits.21974', '10.1007/s10940-023-09569-w', '10.3390/polym8120414', '10.1093/geront/gnx063', '10.1093/beheco/ary140', '10./1177/1059840517707241', '10.1007/s00127-017-1478-6', '10.1177/2165143418781303', '10.1177/2156759x18778811', '10.1080/01436597.2022.2106207', '10.1002/jts.22398', '10.1109/MNET.011.2000169', '10.1038/s41598-020-63351-7', 'https://doi.org/10.1177/0022487120954360', 'http://dx.doi.org/10.1016/j.ijppaw.2017.03.004', '10.1177/0894845319827652 ', '10.1353/hph.2019.0068', 'DOI: 10.1111/acer.13590', '10.1038/s41559-021-01465-5', '10.1111/1745-9125.12111', '10.1111/add.13471', '10.1111/1365-2664.12814', '10.1037/tra0000344', '10.1016/j.ecresq.2021.06.007', '10.1007/978-1-349-21582-9_2', '10.1007/s40746-018-0112-5', '10.1177/1069072719845329   ', '10.1080/14754835.2020.1758551', '10.1007/s10867-020-09561-6', '10.1080/24751979.2021.1963636', '10.1176/appi.ps.202100590', '10.1007/s11121-021-01236-5', '10.1109/TIE.2023.3279518', '10.1109/GMEPE-PAHCE.2016.7504615', '10.1016/j.foreco.2016.08.050', '10.1177/0022427816632573', 'DOI: 10.5330/1096-2409-20.1a.29', '10.1037/prj0000558', '10.4324/9781315100944-3', '10.1080/23322705.2020.1855900', '10.1177/1468017320919377', '10.1038/s41380-023-01971-x', '10.1016/j.pediatrneurol.2017.09.016', '10.1016/j.jct.2023.107039', '10.1017/S0033291720003773', '10.1016/j.jorganchem.2017.03.043', '10.1093/jahist/jaaa463', '10.1080/07328303.2020.1821042', '10.3389/fnins.2020.565668', '10.3847/PSJ/ac323c', '10.1080/01419870.2016.1201584', '10.1016/j.neuint.2016.05.004', '10.1042/BSR20181953', '101:10.1111/dome.12106', '10.1215/00029831-10084596', 'doi.org/10.1063/1.4970519.', '10.1109/SSCI.2017.8280937', '10.1016/j.intman.2023.101030', '10.1021/acs.jpcc.8b02000', '10.1177/0007650320965154', '10.1007/s10940-016-9303-z', '10.1504/IJRM.2018.096321', '10.1097/ANC.0000000000000472', '10.1176/appi.ajp.21090911', '10.1371/journal.pone.0272374', '10.1177/1049732318790939', 'DOI: 10.1080/15402002.2021.2024193', '10.1038/s41598-019-39174-6', '10.1109/JIOT.2021.3061467', '10.1891/1078-4535.24.2.110', '10.1109/TNSE.2020.3015689', 'https://doi.org/10.1007/s42822-021-00050-6', '10.1093/plphys/kiaa002', '10.1007/s10591-022-09657-2', '10.1016/j.trd.2020.102668', '10.1039/c9nj06139h', '10.1177/1557085120987621', '10.1016/j.asieco.2022.101458', '10.3389/fpsyg.2022.792756', '10.4155/fmc.15.120', '10.1016/j.jpsychires.2022.10.070', '10.1097/PSY.0000000000001133', '10.1186/s12913-020-05361-9', '10.1186/s12889-020-08902-3', '10.1002/net.21858', 'https://doi.org/10.1177/1359105320934166', '10.1093/hsw/hlab015', '10.1016/B978-0-444-62710-0.00005-5', '10.1557/s43580-021-00075-4', 'https://doi/org/10.3390/insects11070422', 'https://doi.org/10.1557/s43580-021-00022-3', '10.1080/02642069.2018.1563072', '10.1002/ecy.3845', '10.1177/1077801211407427', 'https://doi.org/10.1177/0192513X211001430', '10.1080/15548732.2015.1090940', '10.1016/j.jmsy.2015.02.004', '10.1177/0305735615610925', 'https://doi.org/10.1080/15401383.2019.1602092', '10.1891/2168-6653.32.1.66', '10.1504/IJISM.2022.119586', '10.1016/j.rechem.2020.100042', '10.4018/IJVPLE.2020070103', '10.1037/cdp0000040', 'DOI: 10.1039/c9ob00573k', '10.1145/3421937.3421975', '10.18251/ijme.v23i1.1995', '10.3390/e20120955', '10.1108/SCM-02-2020-0047', '10.1016/j.omega.2021.102417', '10.1177/2F2156759X221086741', '10.3390/photonics5020008', '10.2196/11244', 'https://doi.org/10.24839/2325-7342.JN25.2.142', '10.3390/plants10112372', '10.1016/j.jda.2016.06.001', '10.5061/dryad.8fq4mf6', '10.1176/appi.prcp.20190021', '10.1016/j.bbr.2015.08.028', '10.1093/milmed/usy171', '10.1177/2167702616689780', '10.1080/07418825.2014.984751', '10.1007/s12144-016-9462-y', '10.1007/s12144-022-03639-1', 'https://doi.org/10.1007/s12144-018-0042-1', 'https://doi.org/10.1016/J.PURSUP.2019.100559 ', '10.1016/j.ecoinf.2020.101162', '10.1521/soco.2022.40.5.459', '10.1080/15381501.2018.1519479', '10.1007/s12129-018-9768-3', '10.1201/9781315120300-24', '10.1007/s11682-021-00450-7', '10.1021/acs.jchemed.9b00446', '10.1017/S147924431600024X', 'https://doi.org/10.1177%2F1065912919832374', '10.12893/gjcpi.2022.2.1', '10.1016/j.drugalcdep.2017.06.038', '10.1002/jnr.24648', 'https://doi.org/10.1017/jgc.2023.1', 'http://dx.doi.org/10.1016/j.bmc.2016.04.058', '10.1016/j.omega.2019.03.014', '10.1016/j.ijlcj.2021.100505', ' 10.1088/0004-637X/815/1/2', '10.3390/app12052753', '10.1007/s10818-017-9261-z', '10.1111/tbed.14112', '10.1891/0886-6708.VV-D-16-00213', 'http://dx.doi.org/10.1080/09650792.2017.1286996', '10.1007/978-3-319-93701-4_9', '10.1093/oxfordhb/9780190628963.013.16', 'https://doi.org/10.5555/2158-396X-21.2.48', '10.3390/plants9070845', '10.1093/beheco/ary190', '10.1371/journal.ppat.1009785', '10.1186/s40479-020-00127-5', '10.4324/9781003164647-11', 'DOI: 10.1021/jacs.6b05578', '10.1109/ACCESS.2022.3202944', '10.1080/13607863.2016.1196335', '10.1111/geb.12803', '10.1002/9781118868799.ch22', '10.1017/S0031182022001469', '10.18576/amis/120618', '10.1080/0735648X.2022.2026807', '10.1007/s40429-018-0220-0', '10.1080/10474412.2018.1495083', '10.1007/s11146-017-9607-2', '10.1007/s11682-015-9383-7', '10.1038/s41591-019-0695-9', '10.1093/beheco/arab057', '10.1073/pnas.2006659117', '10.1016/j.engappai.2022.104888', '10.1016/j.jct.2017.07.018', '10.1016/j.carres.2019.107900', '10.1146/annurev-criminol-032317-091957', '10.1093/cid/cix1031', '10.1093/tbm/iby038', '10.1007/s12115-018-0301-7', '10.1007/s11682-021-00464-1', '10.1177/1066-480716663490', '10.1177/1541204014547589', '10.1515/bejm-2018-0059', '10.1016/j.molp.2018.10.001', '10.4324/9780429197277-3', '10.1016/j.xhgg.2022.100150', '10.1177/1069072719845329', '10.1111/cgf.13018', '10.1016/j.frl.2021.102058', '10.1186/s12954-021-00532-1', '10.1109/BigData50022.2020.9378047', '10.3390/en11071851', '10.1111/tpj.15152', '10.1371/journal.pone.0179625', '10.1002/jts.22518', '10.11646/phytotaxa.357.4.6', '10.5465/AMBPP.2021.122', '10.1186/s13031-018-0156-y', '10.1177/0886260517692334', '10.1007/978-3-319-16934-7_65', '10.1016/j.intmar.2019.10.002', '10.1016/j.biochi.2019.07.021', '10.1039/c7cp04738j', 'DOI:10.1080/10610278.2016.1192170', '10.1111/cxo.12321', 'https://doi.org/10.1002/TESJ.472', 'https://doi.org/10.1016/j.jsat.2019.06.008', '10.1177/0022427815597039', '10.1016/j.acha.2015.03.005', '10.1111/1467-8365.12441', '10.1007/s10869-019-09653-8', '10.1038/s41598-022-08093-4', '10.1016/j.leaqua.2016.01.007', '10.1080/12294659.2020.1775330', '10.1098/rspb.2016.1564', '10.1111/tpj.15981', '10.1097/QAD.0000000000001968', '10.1080/00223891.2022.2047060', '10.1016/j.ahj.2017.07.019', '10.1016/j.jvlc.2017.11.009', '10.1016/j.chroma.2016.10.005', '10.4324/9781315081601', 'https://doi.org/10.1038/s41386-020-00946-8', '10.3758/s13420-022-00528-2', '10.1057/s41267-016-0048-6', '10.1080/00952990.2016.1258706', '10.1055/s-0036-1589103', 'https://doi.org/10.1016/j.asieco.2022.101458', '10.1177/0013124516658521', '10.1007/978-1-4939-6406-2_9', '10.1037/adb0000531', '10.1016/j.iref.2020.10.012', '10.1007/978-3-319-29269-4_1', '10.1017/9781108555500.004', '10.3390/molecules26133809', '10.1002/nvsm.1768', '10.1109/SC.2018.00060', '10.1108/ETPC-05-2017-0057', 'www.pnas.org/cgi/doi/10.1073/pnas.2006659117', '10.12705/674.2', 'https://doi.org/10.1080/07328303.2020.1821042', 'doi.org/10.1017/S1742058X18000097', '10.1145/3204466', '10.1111/cpsp.12365', '10.1177/1049732316668298', '10.1371/journal.pone.0194471', '10.1177/21677026221150499', '10.1002/ajp.23236', '10.1177/14624745221128102', '10.1016/j.compeleceng.2018.04.011', '10.1287/deca.2021.0438', '10.4324/9781315676982', 'https://doi.org/10.1007/s11042-020-08678-z', 'https://doi.org/10.1007/s00220-022-04374-1', '10.1080/2326716X.2023.2169892', '10.1177/1747021820921133', '10.1090/mcom/3205', 'http://dx.doi.org/10.1016/j.electstud.2015.03.013', '10.1111/sltb.12602', '10.1146/annurev-criminol-032317-092339', '10.1080/09602011.2019.1575245', '10.1016/j.bbapap.2022.140817', '10.1039/9781788013864-00093', '10.1021/acsinfecdis.2c00125', '10.1038/s41559-021-01423-1', '10.1063/5.0081916', 'https://doi.org/10.1080/19388071.2022.2134064  \\xa0', '10.4324/9780429457708-2', 'https://doi.org/10.1038/s41598-022-08093-4 ', '10.1080/02791072.2022.2079443', '10.1002/tesj.472', 'https://doi.org/10.1016/j.gfj.2021.100619', '10.1016/j.soard.2011.10.008', '10.1016/j.jddst.2020.101985', '10.1117/12.2506711', '10.1186/s12864-016-3210-4', '10.1377/hlthaff.2015.1262', '10.1093/cid/ciab169', '10.1080/19338341.2016.1239210', '10.1007/978-3-030-66877-8_5', '10.1093/jamia/ocy109', '10.1016/j.patter.2022.100564', '10.1177/0149206314548226', '10.1007/s12520-019-00984-4', '10.7589/2015-07-189', '10.1111/een.13202', '10.3847/PSJ/abdd3a', '10.1016/j.chiabu.2022.105937', '10.1021/acs.inorgchem.7b01711', '10.1093/bioinformatics/btw405', '10.1016/j.jfca.2015.01.021', '10.1177/1094428116689708', '10.1177/0486613417741308', '10.1080/1067828X.2015.1103348', '10.1007/978-3-319-29602-9', '10.1016/j.neucom.2022.10.037', '10.1080/00947679.2019.1574178', '10.2308/acch-10808', '10.1021/jasms.0c00074', '10.1080/13504851.2017.1290766', '10.1007/s40653-021-00378-6', '10.1016/j.inoche.2016.03.017', '10.1002/ecy.2121', '10.1016/j.spl.2016.10.014', '10.1371/journal.pone.0154973', '10.1016/j.jbusres.2020.09.027', '10.1177/2156759X211050409 ', '10.1515/9783110430295-031', '10.1016/j.carres.2019.107743', '10.9730/ojccnh.org/', '10.1017/S0033291717003208', '10.1002/pro.2716', '10.1007/7854_2020_185', '10.1037/cou0000387', 'https://doi.org/10.1002/ceas.12227', '10.1111/jnu.12328', '10.1016/B978-0-12-822457-1.00002-9', 'https://doi.org/10.1002/jts.22386', '10.1016/j.spc.2020.09.005', 'doi.org/10.1016/j.ajem.2022.11.017 ', '10.1016/j.ffa.2023.102211', '10.1016/j.iccn.2017.09.008', '10.1089/rej.2018.2156', '10.1007/978-3-030-14895-9_22', '10.4324/9781351313926-5', '10.1080/10911359.2015.1091243', '10.1007/s12187-020-09742-8', '10.1002/mar.20946', '10.1016/j.heliyon.2022.e12612', '10.4324/9781315133683-6', '10.1007/s10940-016-9279-8', '10.1007/978-1-137-12050-2', '10.1007/s10589-022-00383-x', '10.1016/j.jadohealth.2014.10.239', '10.1016/j.visres.2015.08.021', '10.1111/chd.12583', '10.5220/0006688400720078', '10.1097/OPX.0000000000001389', 'https://doi.org/10.1016/B978-0-12-819475-1.00006-7', 'DOI: 10.1002/pits.22020', '10.1111/geb.12615', '10.1007/s11002-021-09612-5', '10.1029/2021JG006557', '10.1097/JPN.0000000000000418', '10.12705/653.37', '10.1063/5.0124274', '10.1007/s40429-021-00374-8', '10.1021/jacs.6b06862', 'https://doi.org/10.1080/00207543.2020.1751337', '10.1021/acs.joc.6b00910', '10.1016/j.addbeh.2016.02.014', '10.1080/07418825.2017.1339113', 'https://doi.org/10.1007/s10895-021-02730-3', '10.1016/bs.adcom.2020.03.003', '10.1007/s10488-023-01265-y', '10.1093/aob/mcx012', '10.1177/10443894211066464', '10.1016/j.childyouth.2022.106702', '2.24E+13', '10.4324/9781315086828', '10.1080/15284336.2018.1511348', '10.1016/j.racreg.2017.04.002', '10.1002/9781118972472.ch2', '10.1007/978-981-287-472-6_21', '10.1080/20548923.2017.1395153', '10.1111/1462-2920.15212', 'https://doi.org/10.1097/PTS.0000000000000945 ', '10.3389/fpls.2022.852923', '10.1186/s12859-017-1807-5', '10.1007/s12228-016-9459-8', '10.1016/j.jecp.2019.01.006', '10.1016/j.jorganchem.2016.12.021', 'https://doi.org/10.1016/j.jwb.2019.101015', '10.1002/trtr.2183', '10.1007/s12144-022-02757-0', '10.1111/dome.12195', '10.1007/s12126-016-9259-1', '10.1108/IJHCQA-05-2018-0131', '10.1080/14783363.2018.1482209', '10.1016/j.ijpp.2022.06.005', '10.1146/annurev-criminol-011518-024551', '10.1093/pastj/gtab005', '10.1057/s41266-016-0016-9', '10.1093/jahist/jaz163', 'https://doi.org/10.7290/tsc030108', '10.4324/9781315170718-55', '10.1016/j.jct.2018.02.016', 'DOI:10.1016/j.whi.2016.05.005', '10.1109/ISBI.2018.8363830', '10.1016/j.jms.2017.02.009', '10.1016/j.jimonfin.2019.102100', '10.1016/j.electstud.2020.102244', '10.1109/IC-NIDC54101.2021.9660605', '10.1039/d3nj01463k', '10.1016/j.pscychresns.2018.05.007', '10.1016/j.dhjo.2020.100937', '10.1111/jgs.14022', '10.4324/9781315087450-12', 'https://doi.org/10.1016/j.bushor.2018.04.006', '10.1016/j.ajem.2022.11.017', '10.1007/s00289-018-2424-9', 'https://doi.org/10.1177/0022466920950331', '10.1097/QAD.0000000000002786', '10.1080/10410236.2016.1196639', '10.1016/j.beth.2016.02.009', '10.1039/c9dt04662c', '10.1093/plcell/koaa054', '10.1002/chem.201901969', '10.1007/978-3-319-46138-0_8', 'doi.org/10.1016/j.jms.2019.03.002', 'https://doi.org/10.1002/joec.12066', '10.3390/app11157087', '10.1073/pnas.1702512114', 'https://doi.org/10.47677/gluks.v20i1.173', '10.1016/j.pacfin.2022.101770', '10.1080/10826084.2017.1408655', '10.1002/9781118868799', '10.1002/ceas.12261', '10.1086/690008', '10.1080/0735648X.2017.1338148', '10.1016/j.omega.2019.07.006', '10.1080/19477503.2018.1463006', '10.1186/s12870-020-2305-x', '10.1080/15401383.2021.1924096', 'https://doi.org/ 10.1080/10911359.2022.2083742', '10.1080/15332640.2018.1520174', '10.1016/j.ijppaw.2022.01.005', '10.1111/tpj.13858', '10.1111/manc.12197', 'https://doi.org/10.1016/j.pacfin.2021.101534.', '10.1002/cvj.12093', '10.1177/0886260514555866', '10.1080/02650487.2019.1612622', '10.1021/acs.chemrev.2c00029', '10.1111/jftr.12411', '10.1021/acs.joc.9b00905', '10.2140/ant.2015.9.981', 'https://doi.org/10.15241/dad.10.4.548', '10.1016/j.ijedro.2022.100191', '10.11612/RESPHIL.2035', '10.1016/j.pediatrneurol.2015.08.004', '10.1111/jonm.13397', '10.1108/IJPPM-02-2019-0087', '10.1039/c6md00474a', '10.3390/molecules24142579', '10.1016/j.econmod.2021.02.011', 'https://doi.org/10.7290/tsc020103', '10.1016/j.jinorgbio.2022.111831', '10.1016/j.carres.2018.09.003', '10.1002/jts.22294', '10.1002/jclp.23251', '10.1021/acs.inorgchem.2c01980', '10.1007/s10722-016-0363-6', '10.1093/scan/nsx042', '10.1017/S0031182018001130', '10.4324/9781315080987-29', '10.1007/s12609-020-00371-2', 'pits.22636', '10.3390/e19050232', '10.1111/jbl.12323', '10.1177/1043986218770002', '10.1017/9781108304320.017', '10.1039/c4ra15217d', '10.1080/13803395.2014.985636', '10.1007/s00436-016-5263-3', 'http://www.sciedu.ca/journal/index.php/ijba/article/download/12216/7490', '10.1111/ssqu.12277', 'DOI: 10.1109/TAES.2022.3189335 ', '10.1177/0275074019867413', '10.1080/10437797.2016.1174629', '10.1111/chd.12747', '10.1016/j.jsat.2022.108897', '10.1080/23322705.2021.1898173', '10.4324/9780429457708-4', '10.1111/infa.12177', '10.1111/jbi.12730', '10.1007/s11682-015-9440-2', '10.1111/ijcs.12741', '10.1007/s10818-016-9220-0', 'https://doi.org/10.1177/1468017320919377', '10.1007/s10608-016-9770-4', '1016/jct 2016.03.020\\t', '10.4018/978-1-7998-4222-4.ch009', '10.1088/1361-648X/aa83c6', '10.1016/j.outlook.2018.10.005', '10.1037/trm0000360', '10.1016/j.jsat.2022.108747', '10.1039/c6dt00064a', '10.1017/S0031182017000208', '10.1007/s10862-020-09862-z', '10.1007/s13361-016-1530-x', '10.1177/00332941221125771', '10.1080/00224499.2016.1269307', 'https://doi.org/10.1016/j.acha.2021.05.006 ', '10.1201/b16768-68', '10.1007/s13361-018-2065-0', '10.1111/pce.13437', '10.1016/j.ejor.2020.10.035', 'http://dx.doi.org/10.1080/1533256X.2017.1302883', '10.4324/9780429037740-6', '10.1007/s10826-022-02279-0', '10.3847/1538-3881/aade87', '10.1007/s10508-015-0590-5', '10.1039/d1cp03842g', '10.1177/1540796917751134', '10.1016/j.trb.2022.01.002', '10.1093/eurjcn/zvac057', '10.1016/j.envres.2016.03.023', 'https://doi.org/10.3390/pr8010115', '10.18060/22918', '10.1037/pha0000545', '10.1080/14754835.2022.2082244', '10.1177/0022427820986848', '10.1177/0146167218795157', '10.5465/AMBPP.2019.93', 'https://doi.org/10.1016/j.ijlcj.2021.100505', '10.1016/j.jct.2016.11.027', '10.1080/19388071.2022.2154084', '10.1016/B978-0-12-809324-5.06502-0', '10.1037/trm0000429', '10.1016/j.drugalcdep.2020.108407', '10.1016/j.ejor.2021.10.061', '10.1007/978-3-319-29602-9_8', '10.1039/c8ra06297h', '10.1007/s40865-018-0095-8', '10.1007/s11422-015-9678-4', '10.1111/nph.15801', '10.1891/VV-D-19-00042', '10.3389/fpubh.2021.598455', '10.1016/j.bbr.2021.113312', 'DOI: 10.1111/jnu.12328', '10.1080/13876988.2023.2204472', '10.1007/s10711-022-00711-9', '10.1186/s40594-023-00408-9', '10.1016/B978-0-12-822963-7.00253-X', '10.1177/17446295221104621', '10.3390/molecules25133003', '10.1080/0167482X.2019.1619691', '10.1080/10926771.2022.2068394', '10.1186/s12974-022-02402-4', 'https://doi.org/10.1080/00224499.2022.2130855', '10.1057/9781137509888', '10.1177/1524839915622196', '10.1177/0022466920950331', '10.1002/ajp.23456', '10.1177/0894845319832972 ', '10.1021/acs.jced.5b00892', '10.3847/1538-3881/aae0f7', 'http://dx.doi.org/10.1016/j.cub.2016.03.009', ' \\t10.3847/2041-8213/aa5cb3', ' 10.3847/0004-637X/820/1/34', '10.1080/15614263.2010.497390', '10.1038/s41386-020-00946-8', '10.1177/0886260516632357', '10.1111/boj.12448', '10.1002/ece3.1894', '10.1093/jmammal/gyx159', '10.1016/j.jpsychores.2019.109762', '10.1080/00043125.2017.1286861', '10.1097/HTR.0000000000000378', '10.1080/00207543.2015.1058537', '10.1149/2.0161601jss', '10.1039/c9cc08876h', '10.1007/s40653-020-00319-9', '10.1177/2055102916634364', '10.1016/j.jpsychires.2018.11.026', '10.1093/jpepsy/jsu096', '10.1097/01.NPR.0000669132.47036.2c', '10.1109/ICCWAMTIP53232.2021.9674080', '10.1016/j.bpsc.2022.08.009', '10.1016/j.molstruc.2020.128024', '10.1007/s10490-020-09746-6', 'https://doi.org/10.1016/j.sna.2020.112155', '10.1016/j.ffa.2021.101905', '10.1111/geb.12531', '10.1523/JNEUROSCI.4654-15.2016', '10.1111/padm.12663', '10.1177/0044118X14528958', '10.1007/s10597-022-00958-2', '10.1037/ppm0000160', '10.1016/j.jfs.2015.11.001', '10.1016/j.jnma.2021.06.002', '10.1007/s10597-022-00958-2 ', '10.1038/srep26056', '10.3389/fpsyg.2015.01597 ', '10.1103/PhysRevB.96.134407', '10.1109/WorldS450073.2020.9210361', '10.3390/ijms22115553', '10.1016/j.pursup.2019.100559', '10.1016/j.neurobiolaging.2019.07.006', '10.1016/j.jddst.2022.104033', '10.1097/HRP.0000000000000351', '10.1186/s12970-017-0198-3', '10.1108/ETPC-11-2018-0100', '10.1038/s41380-019-0581-3', '10.1111/jbl.12227', '10.1016/j.asieco.2016.03.002', '10.1007/s10763-015-9677-7', 'https://doi.org/10.1177/1557085120987621', '10.1016/B978-0-12-818697-8.00106-0', '10.1027/0227-5910/a000818', '10.1016/j.amjcard.2019.03.011', '10.4018/978-1-5225-5634-3.ch067', 'DOI: 10.1109/TSP.2022.3171093', '10.1080/07418825.2020.1819384', '10.1089/aid.2021.0076', '10.1016/j.addbeh.2020.106539', '10.1080/02699052.2016.1219063', '10.1021/acs.inorgchem.7b01619', '10.3760/cma.j.cn311282-20200629-00483', '10.3389/fchem.2022.945779', '10.1177/0031721719846887', '10.1037/sgd0000635', 'Doi.10.3928/01484834-20210908-01', '10.1093/jambio/lxad090', '10.3389/fevo.2019.00396', 'Underpriced REITs: The Long & The Short of It', 'https://doi.org/10.1016/j.bbr.2017.04.041', '10.1021/acs.joc.7b02768', '10.1016/j.xplc.2022.100500', '10.1016/j.bmc.2016.04.058', '10.1016/j.reffit.2016.10.011', '10.1016/j.ijpsycho.2017.05.012', '10.1177/0013124518819758', '10.1002/fut.22015', '10.1080/10410236.2018.1536959', '10.1093/jahist/jax431', '10.1177/0886260518760019', '10.1111/jir.12864', '10.4018/978-1-6684-8407-4.ch016', '10.1016/j.eatbeh.2020.101469', '10.1021/acs.jced.5b00737', '10.1177/0091026019835233', '10.1080/14719037.2017.1363903', 'https://doi.org/10.3928/01484834-20180420-10 ', '10.1097/CNJ.0000000000000950', '10.1080/15575330.2020.1825502', '10.1111/jfir.12276', '10.1016/j.jpsychires.2023.01.021', 'https://doi.org/10.1016/j.bbr.2021.113258', '10.1002/ceas.12212', '10.1007/s13365-017-0581-5', '10.1007/s10570-022-04869-z', '10.1016/j.joep.2022.102504', '10.1007/978-3-030-72644-7_6', '10.1017/9781108304320.001', '10.1097/QAI.0000000000001790', '10.1039/c9ce01379b', '10.1371/journal.pone.0150753', '10.1177/0886260518818434', '10.1080/1547688X.2022.2096948', 'https://dx.doi.org/10.4310/PAMQ.2021.v17.n5.a5', '10.1007/s11023-018-9459-4', '10.1007/s10895-021-02730-3', '10.1103/PhysRevB.105.054431', '10.1590/1984-6398202016853', 'https://link.springer.com/article/10.1007/s40926-021-00169-x', '10.1111/jmcb.12580', '10.1039/c9ob00573k', '10.1016/j.addbeh.2022.107455', '10.1007/s10508-014-0432-x', '10.1007/s13365-016-0503-y', '10.1177/1044207317739408', 'https://doi.org/10.1016/j.childyouth.2018.06.001', '10.1002/jts.22713', '10.1016/j.jct.2015.09.005', '10.1017/S0954579421000961', 'http://doi.org/10.1177/23779608221140719', '10.1177/10442073221130748', '10.1002/ev.20447', '10.1177/2167702616677312', '10.1007/s12144-019-00274-1', '10.1002/jts.22572', '10.1142/S0219530520400047', '10.1016/j.sigpro.2019.07.024', '10.1177/1940082919849504', '10.1177/1468017317743138', 'SIAM.000521.2020', '10.1111/dar.13405', '10.1117/12.2206002', '10.1080/19361653.2018.1534632', '10.1107/S2056989018009696', '10.1109/ICNP.2019.8888081', '10.1037/abn0000318', '10.1037/tra0000410', '10.1534/g3.115.026773', '10.1037/ort0000400', '10.1111/ppc.13101', '10.1109/TMC.2021.3068632', '10.3390/rel9020043', '10.1002/prot.25865', '10.1177/14707853211052177', '10.1093/ofid/ofab633', '10.1002/eap.2154', 'https://doi.org/10.1108/IJLM-06-2018-0150', '10.1080/01612840.2019.1615584', '10.1128/Spectrum.01060-21', '10.1007/s10773-016-3123-7', '10.1080/14719037.2019.1577907.', '10.1007/978-3-319-78172-3', '10.1016/j.cofs.2017.08.003', '10.1017/bca.2019.31', '10.1007/s40806-018-0167-3', 'https://doi.org/10.1287/inte.2022.1138', '10.1080/00336297.2019.1608270', '10.1016/j.sigpro.2022.108683', '10.1515/ijnes-2016-0040', '10.1109/MCI.2022.3155333', '10.7189/jogh.13.06003', 'DOI: 10.1039/C7CP04738J', '10.1097/QAI.0000000000002132', '10.5325/utopianstudies.27.2.0152', '10.1037/tra0001169', '10.1111/dome.12106', '10.3141/2585-06', '10.1080/15538605.2020.1827475', '10.1307/mmj/20195790', '10.1088/1361-6420/acc88a', '10.1038/s41586-019-1128-0', '10.1016/j.jad.2021.10.104', '10.1111/avsc.12234', '10.1016/j.pacfin.2015.12.003', '10.1104/pp.19.00300', '10.1016/j.ijcard.2018.07.103', '10.1002/icd.2199', '10.1080/08874417.2020.1830005', '10.1080/09644008.2017.1366988', '10.1007/978-1-349-04015-5', '10.1002/RRQ.392', '10.1088/1361-648X/ac7f17', '10.1109/SysCon53073.2023.10131082', '10.1080/21520844.2018.1449796', '10.11646/phytotaxa.490.3.3', '10.1093/oxfordhb/9780190201371.013.3', '10.4324/9781315458458-8', '10.2217/nnm-2017-0053', '10.1109/TCBB.2021.3115053', 'doi:10.1167/iovs.16-20663', '10.1016/j.neuropharm.2018.10.025', '10.1037/adb0000588', '10.4324/9780429495885', '10.1371/journal.pone.0256571', '10.1109/WCNC.2019.8885623', '10.1111/medu.14741', '10.1002/anie.202107507', '10.1080/1097198X.2023.2201528', '10.1002/9783527696239.ch2', '10.1371/journal.pone.0152421', '10.3390/jrfm16030181', '10.1109/ICCVW54120.2021.00438', '10.1080/14036096.2019.1633399', '10.1080/00223980.2014.979127', '10.1080/23727810.2017.1381931', '10.1080/1097198X.2017.1355128', '10.1364/OE.27.023476', '10.3357/AMHP.4585.2016', '10.1038/s41598-020-66686-3', '10.1093/envhis/emv112', '10.1037/tra0001100', 'https://scholarworks.wmich.edu/jssw/vol46/iss3/5', '10.1108/IJES-02-2020-0005', '10.1111/acer.13380', '10.11646/PHYTOTAXA.433.1.7', 'https://doi.org/10.33423/ajm.v19i3.2187', '10.1016/j.infbeh.2017.10.007', '10.1016/j.chiabu.2017.11.021', '10.1145/3408877.3432543', '10.1080/1226508X.2018.1531353', '10.1002/da.23223', '10.3847/1538-4357/ac67e3', '10.1017/9781316848418.003', '10.1080/1475939X.2022.2138959', '10.1642/AUK-16-171.1', '10.1177/2156759X231165495', '10.1007/s10578-017-0750-z', '10.1016/j.dib.2019.104182', '10.1007/s40747-022-00733-6', '10.1186/s12913-016-1721-y', '10.1097/PTS.0000000000000945', 'https://doi.org/10.1016/j.parco.2019.02.003', '10.1097/QAI.0000000000002242', '10.1094/ASBCJ-2017-4534-01', '10.3167/gps.2019.370305', '10.4140/TCP.n.2016.329', '10.1097/NHH.0000000000000500', '10.1177/0306624X14554194', '10.3847/PSJ/ac07ae', 'doi: 10.1093/bjc/azy040', '10.1016/j.racreg.2016.03.003', '10.1016/j.psychres.2016.04.039', '10.1016/j.jct.2020.106139', 'https://docs.lib.purdue.edu/fosr/vol13/iss1/', '10.1016/j.cam.2021.113607', '10.1177/0266382118773624', '10.1016/j.ica.2017.05.019', '10.1080/10872981.2018.1542922', '10.1007/s10672-022-09425-2', '10.1177/0275074020942063', '10.1097/JCN.0000000000000466', '10.1080/1743727X.2018.1492535', '10.3928/01484834-20210908-01', '10.1016/B978-0-323-69418-6.00009-3', '10.7589/2017-09-225', 'https://doi.org/10.21423/jume-v13i2a409', 'https://doi.org/10.1037/dev0001231', '10.1007/s00220-019-03296-9', '10.1080/10474412.2020.1744447', '10.1016/j.gecco.2022.e02161', '10.1021/acsinfecdis.9b00172', 'https://doi.org/10.1007/s13365-020-00826-3', '10.1016/j.ecolmodel.2022.110133', '10.1016/j.jaac.2018.07.905', '10.1177/1044207317739407', '10.1371/journal.pone.0201873', '10.1177/15345084221119418', '10.1002/rrq.392', '10.1177/1088767919848665', '10.1007/s10940-016-9336-3', '10.1037/tra0001468', '10.1016/j.jacc.2016.03.477', 'DOI: 10.1002/cbic.201600428 ', '10.3390/nano8030171', '10.1038/s41398-022-02289-y', '10.1007/978-3-319-28887-1_10', '10.1080/01900692.2016.1256305', 'http://www.journalcsij.com/index.php/CSIJ/article/view/30119) https://doi.org/10.9734/CSJI/2019/v27i430119  479.', '10.1177/1078087420975203', '10.1111/hiv.13079', '10.4018/978-1-5225-0741-3.ch010', 'https://doi.org/10.1007/s00220-019-03372-0', 'http://www.journalcsij.com/index.php/CSIJ/article/view/30119) https://doi.org/10.9734/CSJI/2019/v27i430119 ', '10.1111/1755-0998.13272', '10.1002/pro.4065', 'https://doi.org/10.1080/1540496X.2019.1600504', '10.1038/ncomms7534', '10.1021/jacs.6b05578', '10.1093/infdis/jiac293', '10.1111/hojo.12503', '10.1007/978-3-030-73644-6_23', 'https://doi.org/10.3390/youth2040048', '10.1080/03007995.2017.1330256', '10.1186/s12954-020-00402-2', '10.1002/chem.202003479', '10.1007/978-3-030-56946-4_10', '10.1002/ajp.23063', '10.4324/9781315139548', '10.1039/c8ce00447a', '10.1007/s10393-017-1280-7', '10.1016/j.jct.2020.106204', 'https://doi.org/10.1093/bioinformatics/btx780', '10.1007/s10672-023-09443-8', '10.1177/0022427818817338', '10.1177/1940082916674288', 'https://doi.org/10.5840/acpq2022818256', '10.1080/15388220.2020.1858424', '10.4324/9780429457708', '10.1007/s40615-021-01132-2', '10.3928/01484834-20170421-02', '10.1093/oso/9780198866282.001.0001', '10.1007/s13361-016-1510-1', 'doi.org/10.1186/S12889-021-1147-8', '10.1017/gmh.2021.1', '10.1177/1359105315580212', 'https://www.tandfonline.com/doi/abs/10.1080/1540496X.2017.1377608', '10.1111/geb.13366', '10.1021/acs.jced.5b00444', '10.1007/s10955-015-1275-0', '10.1177/0146167219843933', '10.1089/AID.2021.0076', '10.1080/1097198X.2017.1280313', '10.1016/j.jms.2018.11.017', '10.1108/S1521-613620180000023010', '10.1097/NNE.0000000000000326', '10.1111/jbfa.12129', '10.1080/15402002.2021.2024193', '10.1017/iop.2016.18', '10.1007/s40688-021-00399-w ', '10.1111/tpj.13916', '10.3897/phytokeys.76.10298', '10.1039/c6ra90004f', '10.1016/j.bjp.2015.12.001', '2017CBET.4357....1D', '10.1016/j.leaqua.2020.101459', '10.1080/08975930.2018.1455920', '10.1002/jts.22413', '10.1007/s40519-016-0284-6', 'http://doi.org/10.1002/jcad.12352', '10.1176/appi.ps.68906', 'https://doi.org/10.1177/2156759X18786450', '10.1016/j.pacfin.2022.101752', '10.1039/d0cc03885g', '10.1016/j.jms.2019.111173', '10.1155/2021/6672603', '10.1016/j.chiabu.2019.104282', '10.1017/iop.2015.103', '10.1016/j.puhe.2019.04.011', '10.1021/acs.joc.0c01279', 'https://doi.org/10.1002/hrm.21837', 'https://doi.org/10.1037/fam0001005', '10.1177/10541373211063427', 'https://doi.org/10.1007/s10818-017-9261-z ', '10.1515/cfer-2016-050105', '10.1021/acs.joc.0c00943', '10.1007/978-3-030-04726-9_14', '10.3390/healthcare10071227', '10.1177/1086296X19833575', '10.1007/s11948-020-00252-y', '10.1080/15582159.2016.1195221', '10.1007/s10336-015-1298-y', '10.1037/adb0000756', '10.1007/s10797-020-09632-3', 'https://doi.org/10.1016/j.jbusvent.2021.106127 ', '10.1891/0886-6708.VV-D-15-00061', '10.1142/S0217984921502158', '10.1002/9781119092254.ch17', 'https://doi.org/10.1177/1044207320949962', '10.1080/10570314.2019.1659993', '10.1002/jts.22446', '10.1080/24725854.2019.1670370', '10.1097/HTR.0000000000000375', '10.1111/cch.13115', '10.1080/15562948.2021.1980641', '10.1111/cxo.12540', '10.1007/s10672-023-09453-6', '10.1002/14651858.CD011576.pub2', '10.1016/j.ins.2015.04.045', 'doi: 10.1080/01634372.2023.2181906', '10.1007/s10964-016-0605-0', '10.1163/9789004391659_007', '10.1016/j.dsp.2021.103262', '10.1007/978-3-030-46190-4', '10.1111/1745-9133.12332', '10.1177/0011128713492496', '10.1177/0957926515593007c', '10.1177/1073191116632341', 'https://doi.org/10.1039/C9CC08876H', '10.1007/s11414-021-09783-z', 'http://doi.org/10.1080/10376178.2022.2147850  ', '10.1111/jcpp.13116', '10.1517/17460441.2015.1078308', '10.1007/s10973-019-08105-y', '10.1111/josh.12425', '10.1080/08964289.2021.2006131', '10.3417/D-16-00001', '10.1007/s13365-018-0658-9', 'https://www.wsj.com/articles/time-for-positive-interest-rates-for-savers-1541092241', '10.5253/arde.v104i2.a8', '10.1007/978-3-319-93907-0_17', '10.1177/0733464818803006', '10.1007/s10489-017-0900-9', '10.1017/S0031182022001317', 'https://doi-org.ezproxy.umsl.edu/10.1016/j.ffa.2021.101905', '10.1177/15385132211067182', '10.5840/logos-episteme20189217', '10.3847/1538-3881/aa5d18', '10.1021/acs.organomet.9b00438', '10.1111/mec.13758', '10.1089/can.2018.0022', '10.1002/prot.25899', '10.1016/j.bbr.2021.113258', '10.1016/j.jms.2020.111378', '10.1515/9783110455212', '10.1080/14697688.2018.1444554', '10.1021/acs.jchemed.6b00256', '10.1177/0895904817741542', '10.1080/00036811.2015.1068298', '10.1093/ppmgov/gvac012', '10.1016/j.tate.2022.103719', '10.1093/jahist/jav780', '10.1037/cps0000042', '10.1007/978-3-319-54978-1_22', '10.1111/cdep.12162', '10.1103/PhysRevB.104.L100302', '10.1109/BIBM49941.2020.9313573', '10.1080/15332640.2017.1310641', '10.4324/9781315130620-5', '10.1039/d0ob01640c', '10.1038/s41591-018-0026-6', '10.1177/07319487221107890', '10.1109/HICSS.2016.176', '10.1007/s10867-017-9460-9', '10.1016/j.molstruc.2022.133818', '10.1080/08911762.2022.2064385', '10.1177/0886260517746945', '10.1017/9781316759745.002', '10.1177/0890117120927327', '10.1371/journal.pone.0184504', '10.1177/0093854817721936', '10.1002/chem.201905576', '10.1515/mammalia-2020-0183', '10.1039/c9ob01610d', '10.1007/s10447-016-9259-6', '10.1177/0091415018757212', '10.1007/s11948-016-9785-y', '10.1016/j.jct.2019.03.032', '10.2308/jmar-18-070', '10.1177/0886260519863726', '10.1037/abn0000684', '10.1016/j.apnu.2015.02.001', '10.1111/sltb.12356', 'Doi:org/10.1353/cpr.2020.0014', '10.1108/IMR-01-2021-0024', 'DOI: 10.1002/bin.1632', '10.1007/s10940-021-09528-3', '10.1007/s10533-023-01030-1', '10.1093/geront/gnx120', 'https://doi.org/10.5334/ohd.30.', '10.1111/tpj.13731', '10.1039/D0OB00172D', '10.1016/j.abb.2021.108753', ' http://dx.doi.org/10.5380/rvx.v15i4.76297', '10.1016/j.addbeh.2016.12.005', '10.1080/10911359.2018.1433572', '10.3102/0013189X221131504', '10.1016/j.ijpe.2017.04.010', 'https://doi.org/10.33423/jlae.v19i1', '10.1007/s10552-021-01544-9', '10.1016/j.ijintrel.2021.07.003', '10.1109/EDGE55608.2022.00022', '10.1016/bs.irrdd.2020.07.002', '10.3390/plants8100378', '10.3760/cma.j.issn.1674-5809.2020.02.008', '10.1002/mpr.1771', '10.1016/j.actamat.2022.118055', '10.1063/5.0057525', '10.1039/d1cc02114a', '10.1016/j.jelechem.2016.09.045', '10.1007/978-3-030-01800-9_17', '10.1111/lapo.12140', 'doi.org/10.1016/j.ctarc.2021.100459', 'https://doi.org/10.1080/00952990.2022.2160340', '10.1001/jamapsychiatry.2022.4533', '10.1016/j.iref.2017.01.005', '10.1016/j.jbankfin.2022.106618', '10.1111/nph.16482', '10.1016/j.beproc.2021.104528', '10.1352/1934-9556-59.1.1', '10.4018/978-1-5225-0703-1.ch005', '10.1080/19313152.2021.1889112', '10.1016/j.cie.2020.106961', '10.3390/genes7070033', '10.1098/rsta.2016.0249', '10.1037/pha0000602', '10.1021/acs.jced.1c00134', '10.1039/c8ob02413h', 'https://doi.org/10.1177/14707853211052177', '10.1186/s40850-020-00051-9', '10.1016/j.profnurs.2023.05.001', '10.1108/IJLM-10-2022-0415', '10.1002/ecy.2394', '10.1039/c5nj02630j', '10.1093/jxb/eraa215', '10.1016/j.nicl.2019.101810', '10.1097/HTR.0000000000000379', '10.1111/1745-9125.12233', '10.1111/eth.13096', '10.1177/0011128713501031 ', 'https://doi.org/10.1016/j.pacfin.2022.101752', '10.1002/jts.22751', '10.3390/plants9050650', '10.1177/1043986216662370', '10.1177/00224278211068188', 'https://www.tandfonline.com/doi/abs/10.1080/14697688.2018.1444554', '10.3390/coatings10100981', '10.1007/978-981-10-0360-8_7', '10.1016/j.addbeh.2020.106356', '10.1098/rsfs.2016.0149', '10.114S/3071178.3071331', '10.1016/j.jclepro.2020.122539', '10.1007/s00373-018-2002-9', '10.1257/aer.20170772', '10.1080/0161956X.2023.2191564', 'DOI: 10.17645/si.v6i2.1367', '10.1080/13803395.2021.1991893', '10.1177/0891242420973758', '10.1016/j.acha.2020.12.003', '10.1007/s00181-018-1466-z', '10.1016/B978-0-12-820195-4.00158-8', '10.1177/0011000017717705', 'https://doi.org/10.1016/j.psychres.2017.10.036', '10.1016/j.soard.2013.04.011', '10.1002/jia2.25585', '10.1073/pnas.1822153116', '10.1016/j.biochi.2018.11.013', '10.1093/HER/CYAA004', '10.1177/0887403415609718', nan, 'http://www.citejournal.org/volume-18/issue-2-18/current-practice/creating-an-interactive-virtual-community-of-linguistically-and-culturally-responsive-content-teacher-learners-to-serve-english-learners', '10.1080/08952841.2016.1223962', '10.1080/09540121.2017.1281877', '10.1093/bjsw/bcz146', '10.1080/15564886.2022.2062081', '10.3762/bjoc.13.201', '10.3389/fpsyg.2019.00225', 'https://doi.org/10.1080/19359705.2017.1402842 ', '10.1080/10641963.2018.1510939', '10.4018/978-1-5225-0703-1.ch010', '10.1063/1.5110522', '10.1002/cdq.12194', '10.1186/s12859-017-1834-2', '10.1007/s10826-018-1268-0', 'https://doi.org/10.1007/s00220-019-03296-9', 'https://doi.org/10.1007/s11682-021-00464-1', '10.1007/s11406-016-9777-9', '10.1097/QAI.0000000000001513', '10.1016/bs.adcom.2020.03.004', '10.1093/jahist/jaabXXX', '10.3389/fendo.2020.00375', '10.1007/s10531-016-1198-3', '10.1186/s13660-020-02500-y', '10.1007/978-3-030-83484-5_15', '10.1080/14681994.2017.1419569', '10.1016/j.gfj.2021.100619', '10.1109/ACCESS.2019.2947454', '10.1016/j.jbusvent.2021.106142', '10.2174/0929866522666150520145717', '10.2174/1568026618666181115092001', '10.1080/1097198X.2020.1794131', '10.1891/JDNP-D-20-00031', '10.1021/acs.joc.8b03056', '10.1007/978-3-030-23810-0_59', '10.1177/1059840517707241', '10.1016/j.jpsychires.2020.09.001', '10.1097/00008483-200505000-00009', '10.1177/0899764018783084', '10.1007/978-3-031-06368-8_1', 'http://dx.doi.org/10.4236/health.2016.87072 ', '10.1080/1540496X.2019.1624952', '10.1177/02711214211027625', 'https://doi.org/10.1177/15579883211062024', '10.1038/srep35636', '10.1002/chem.201905278', '10.1002/chem.201904185', '10.1177/1078087416636483', '10.1177/1558866120927322', '10.1149/2.0211503jss', '10.4324/9781315739342', '10.1371/journal.pone.0181333', '10.3389/fpsyg.2017.02168', '10.1016/j.jbtep.2021.101638', '10.1002/ev.20442', '10.1039/d1tc04395a', '10.1002/ajb2.1276', '10.1177/2378023118769536', '10.1007/s13361-019-02202-w', '10.1016/j.asoc.2022.108439', '10.1093/bioinformatics/btx781', '10.1177/0192513X18804285', '10.1016/j.ympev.2021.107260', '10.1109/MC.2020.3034950', '10.1159/000523667', '10.1080/00330124.2016.1157495', '10.1021/acsinfecdis.2c00448', '10.3390/healthcare10050812', 'https://doi.org/10.25035/pad.2021.02.002', '10.1080/02699052.2018.1492738', '10.1111/1540-6229.12256', '10.2308/JLTR-2021-010', '10.1108/JKM-07-2020-0501', 'https://www.tandfonline.com/doi/abs/10.1080/13504851.2019.1588940', '10.1039/c5tc90128f', '10.5325/utopianstudies.32.3.0453', 'https://doi.org/10.1007/s10566-020-09552-7', '10.2308/atax-51812', '10.1027/0269-8803/a000294', '10.1177/0886260515614561', '10.1080/15332691.2022.2142716', '10.1002/9781118958933.ch34', '10.1016/j.carres.2019.107824', '10.1109/MC.2021.3115727', '10.1002/ece3.2606', '10.1016/j.bushor.2020.10.003', '10.4018/978-1-7998-7222-1.ch019', '10.1007/s10693-015-0232-z', 'https://doi.org/10.1017/S0021911820002491', '10.1016/j.ijcard.2017.06.114', ' [DOI: 10.14218/JERP.2016.00025]', '10.4269/ajtmh.16-0236', '10.1037/tra0001395', '10.1007/978-3-319-46664-4', '10.1086/693745', '10.4018/978-1-7998-9161-1.ch011', '10.1021/acs.chemrev.8b00051', '10.26512/les.v23i2.45262', '10.1016/j.eswa.2022.119188', '10.1089/jir.2020.0251', '10.1016/j.jct.2018.06.017', 'https://doi.org/10.1016/j.jms.2018.11.017', 'https://doi.org/10.1016/j.stueduc.2020.100866', '10.1111/add.15362', 'https://doi.org/10.1186/s13722-023-00361-6', '10.1007/s00521-020-04903-w', '10.1177/10105395221112833', 'https://doi.org/10.1016/j.ejor.2016.09.058', '10.1086/717052', '10.1007/s00442-016-3629-y', '10.3847/PSJ/abc95c', '10.1080/0735648X.2018.1496846', '10.1177/0886260518790603', '10.1177/1098611115608506', 'http://dx.doi.org/10.1037/ebs0000058', '10.1177/0020872817742701', 'https://doi.org/10.1186/s43170-021-00030-1', '10.1080/15299732.2020.1787295', '10.1371/journal.pone.0174345', '10.1123/jsep.2015-0139', '10.1177/0748730417728663', '10.2196/41890', '10.1017/9781108292443.014', '10.1007/s12129-016-9596-2', 'https://doi.org/10.1016/j.adolescence.2019.04.002', '10.4324/9780429499081', '10.1093/auk/uky017', '10.1109/ICT.2016.7500391', '10.1037/dev0001231', '10.1186/s12859-016-1404-z', '10.1371/journal.pbio.3000667', '10.1109/ICSP.2018.8652362', '10.1098/rspb.2021.1111', '10.1017/S0960428616000147', '10.1111/acer.13220', '10.1016/j.chemphyslip.2023.105293', '10.1039/d2ra03851j', '10.1016/j.brat.2021.103865', '10.1093/bioinformatics/btac210', '10.1177/2156759X20947724', '10.1177/0096144218778019', '10.1111/1365-2745.14098', '10.1016/j.isci.2023.106408', '10.1017/S0261444821000446', '10.1016/j.ijresmar.2017.12.006', '10.1177/0044118X19896716', '10.1007/978-1-4939-3572-7_24', '10.1002/jcpy.1235', '10.1111/1745-9125.12110', '10.1001/jamapsychiatry.2021.2427', 'doi.org/10.1101/2020.01.28.923730 ', '10.1186/s12864-017-4424-9', '10.1016/j.ijcard.2014.11.084', 'DOI: 10.1007/s13361-018-1973-3', '10.1093/frebul/ktx007', '10.1002/jmv.27720', '10.1007/s00213-017-4727-1', '10.1002/rrq.272', '10.1016/j.bpsgos.2023.02.004', '10.1002/ecy.2658', '10.1080/02699052.2018.1494855', '10.1093/oso/9780198798705.003.0004', '10.1057/jors.2015.122', '10.1080/00952990.2019.1605372', '10.1080/14719037.2019.1577907', '10.1016/j.drugalcdep.2021.109246', '10.1080/13530194.2018.1491290', '10.1038/s41380-019-0631-x', '10.1016/j.ejor.2017.01.017', '10.1017/S0954579419000713', '10.1016/j.ijcard.2017.06.072', 'https://doi.org/10.1039/D0CC03885G', 'http://dx.doi.org/10.1016/j.nurpra.2016.04.019', '10.1109/JSYST.2014.2315192', '10.1016/j.annemergmed.2022.08.011', 'https://doi.org/10.1016/j.molstruc.2020.128024', 'DOI: https://doi.org/10.21769/BioProtoc.1849', 'doi: 10.1007/s10896-020-00193-x', '10.1177/1077801215602345', '10.1155/2019/1082412', '10.1109/TAES.2022.3189335', '10.1093/aob/mcac046', '10.1212/WNL.0000000000002669', '10.1016/j.chiabu.2019.104085', '10.1177/15579883211062024', 'doi.org/10.3389/fpsyt.2021.569335', '10.1002/ijgo.13812', '10.1007/s11682-018-9994-x', '10.1093/sf/sow097', '10.1016/j.profnurs.2016.08.007', '10.1080/00380253.2020.1867485', '10.3390/app9040797', 'DOI: https://doi.org/10.21203/rs.3.rs-2584144/v1', '10.1016/j.jct.2019.105931', '10.1080/17457289.2021.1945611', '10.1016/j.ica.2016.04.039', '10.1093/bioinformatics/btx780', '10.1371/journal.pone.0224896', '10.1021/acs.chemrev.5b00559', '10.1016/j.hrthm.2020.09.012', '10.1109/ICCCN52240.2021.9522215', '10.1007/978-3-319-54978-1_116', '10.1111/chd.12668', '10.1039/d0ob00803f', '10.5590/JERAP.2023.13.1.01', '10.1111/1745-9125.12226', 'https://doi.org/10.17744/mehc.41.2.06', '10.4018/978-1-7998-1962-2.ch012', '10.1093/hsw/hlz025', '10.1007/978-3-030-66877-8_9', '10.1080/01463373.2018.1557722', '10.1109/FCS.2017.8088861', '10.1111/flan.12577', '10.4324/9781315129181', '10.1073/pnas.1515309112', '10.1016/j.anbehav.2021.02.015', '10.1080/10410236.2017.1384350', 'https://doi.org/10.1177/27324745221078599', '10.1086/701630', 'https://doi.org/10.5430/ijba.v8n5p28', '10.1017/iop.2019.38', 'doi.org/10.1063/1.5113510', '10.1007/978-3-319-77028-4_20', 'https://doi.org/10.1080/2326716X.2017.1399297', 'https://doi.org/10.1111/1462-2920.15212', '10.1080/10410236.2015.1099501', 'https://doi.org/10.3390/app11157087 ', '10.1016/j.molstruc.2020.127703', '10.4324/9781003309895-24', '10.1177/0093854820972747', '10.1177/2156759X211067958', '10.1097/QAD.0000000000002404', '10.3390/PR7080513', '10.1002/ejoc.201801272', '10.1017/S0033291723001642', '10.3389/fpg.2015.01381', '10.1088/1361-648X/aae5a9', '10.1107/S2053229621004162', '10.3732/ajb.1700229', '10.1177/1044207320949962', 'https://doi.org/10.1089/elj.2020.0650', '10.1111/bjc.12276', '10.1007/978-3-030-84013-6_3', '10.1176/appi.ajp.2021.20101526', '10.1080/13607863.2019.1699020', '10.1080/01634372.2023.2181906', '10.1039/d1nj03041h', '10.3390/bios8030069', '10.31690/ijnr.2022.v08i01.001', '10.3847/PSJ/abd706/54', 'DOI: 10.3389/fpsyg.2016. 00008', '10.1021/acs.joc.6b02478', '10.1016/j.pmn.2018.05.001', '10.1021/jasms.1c00009', '10.1016/j.appet.2007.07.008', '10.1021/acs.inorgchem.0c01938', '10.1111/fare.12776', '10.1016/j.intmar.2016.08.001', '10.1111/nph.18777', '10.5465/AMBPP.2016.188', '10.1177/0093854819848806', '10.3390/brainsci12050551', '10.1037/adb0000690', '10.1007/s13365-016-0434-7', '10.1177/0192513X211001430', '10.1111/jssr.12332', '10.1016/j.media.2021.102246', '10.1021/acschemneuro.8b00029', '10.1007/s10447-022-09479-9', 'https://doi.org/10.1037/adb0000513', '10.1177/00938548231152184', '10.1186/s12955-021-01696-x', 'https://doi.org/10.1016/j.bbr.2022.113999', '10.1177/1359105320963210', '10.1007/s11098-017-0981-7', '10.1039/d2dt00199c', '10.1186/s12859-020-03938-z', '10.3847/1538-3881/aa64dd', '10.4018/978-1-7998-1962-2', '10.1016/j.cjca.2019.07.635', '10.4324/9780429500831', '10.1063/1.4948363', '10.1080/15228053.2022.2074585', '10.1063/1.4961122', '10.1016/B978-0-12-809324-5.05142-7', '10.1111/jfir.12325', '10.1021/acs.chemmater.8b00305', '10.1080/10826084.2019.1639753', '10.1016/j.trc.2016.06.007', '10.1080/21532974.2020.1781001', '10.1523/JNEUROSCI.4236-15.2016', '10.1111/1745-9125.12010', '10.1086/722907', '10.1177/0887403414560013', '10.1097/QAD.0000000000003496', '10.1176/appi.ps.201400428', '10.1007/s11224-021-01764-4', '10.3847/PSJ/abd71d', 'https://doi.org/10.1080/1097198X.2019.1567666', 'https://doi.org/10.1017/CBO9781316387887.008', 'http://dx.doi.org/10.1111/ssqu.13088', '10.1080/0161956X.2023.2191567', '10.1016/j.ijer.2018.11.006', '10.1007/978-3-030-41995-0', '10.21300/18.1.2016.21', ' https://doi.org/10.1002/chem.202003479', '10.1177/20597991221144574', 'doi: 10.1097/OPX.0000000000001597', '10.1016/j.ejor.2020.05.057', 'https://doi.org/10.1080/20548923.2017.1395153', '10.21307/ane-2017-059', '10.7290/tsc04k3n1', '10.1007/s11156-015-0548-7', '10.1016/j.amc.2015.12.036', '10.1109/BIBM52615.2021.9669803', '10.7758/RSF.2022.8.2.05', '10.1007/978-3-030-47214-6_5', '10.1017/S1041610219000565', '10.4208/NMTMA.OA-2020-0077', '10.1177/1359105320963540', '10.1016/j.apnu.2023.02.003', '10.1111/jbi.14524', 'https://doi.org/10.1186/s12954-023-00734-9', 'scholarworks.wmich.edu/jca/vol7/iss2/4/ ', '10.4324/9780429466380', 'http://dx.doi.org/10.1080/10538712.2022.2133041', 'https://doi.org/10.1080/1540496X.2019.1579710', '10.1037/per0000456', '10.1109/HPBDIS53214.2021.9658352', '10.1007/s40926-021-00169-x', '10.1007/s12144-022-03929-8', '10.1021/acsanm.2c03203', 'doi.org/10.11612/resphil.2035', '10.1142/S0217984916300052', 'https://doi.org/10.1177/0093854820928568', '10.1142/S0219467821500479', '10.1111/tpj.15260', '10.1021/acs.organomet.9b00505', '10.1080/1358684X.2022.2042673', '10.1097/QAD.0000000000002768', '10.1007/s11481-021-10045-0', '10.1039/d1ob00004g', '10.1037/h0093990', '10.1016/j.tra.2020.04.002', '10.1021/jasms.2c00155', '10.3390/ijerph192316298', '10.1097/CNJ.0000000000000502', '10.1200/OP.22.00505', '10.1002/jcc.25201', '10.1002/chem.202103747', 'https://doi.org/10.1108/CMS-11-2019-0405', '10.1007/s40653-017-0198-0', '10.1039/C6MD00371K', '10.1007/s11156-013-0429-x', '10.1016/j.neuropsychologia.2020.107426', '10.1111/cobi.12995', '10.1638/2016-0025R1.1', 'https://doi.org/10.1017/S0040557419000437  ', '10.3390/metabo13040499', '10.1177/00938548221081072', '10.1007/s10826-015-0198-3', '10.1111/1365-2656.12679', '10.1111/joca.12467', '10.1016/j.bbi.2016.11.012', '10.1556/2006.7.2018.77', '10.1016/j.socnet.2016.12.001', '10.1016/j.bbr.2022.114227', '10.1080/10926771.2019.1710640', '10.1111/pce.13554', '10.1080/10826084.2018.1512625', '10.4324/9780429315435', 'https://doi.org/10.1080/17457289.2019.1711383', '10.1177/0042085920974084', 'https://doi.org/10.1080/10570314.2019.1659993', 'https://doi.org/10.1080/08975930.2018.1455920', '10.1016/j.jsat.2019.06.008', 'https://www.biorxiv.org/content/10.1101/2020.11.28.402214v1.full', '10.1002/gps.4312', '10.1093/bioinformatics/btw067', '10.1590/1984-6398201916061', '10.1016/j.psychsport.2016.08.005', '10.1016/j.jwb.2019.101015', '10.1016/j.poly.2019.114120', '10.1016/j.iref.2019.08.002', '10.1145/3274783.3275159', 'https://doi.org/10.15241/plw.12.2.123', '10.1177/0011128719881600', '10.1080/08897077.2021.1901174', '10.1057/9781137012296_1', '10.1097/QAI.0000000000002783', '10.1111/jrh.12647', '10.1534/genetics.115.177196', '10.30848/PJB2021-2(35)', '10.1057/s41302-023-00243-4', 'http://dx.doi.org/10.1891/VV-D-19-00042 ', 'https://doi.org/10.1016/j.acha.2020.12.003', '10.1177/0886260519829766', '10.3389/fpsyg.2022.1104143', 'https://doi.org/10.1016/j.jvb.2021.103646', '10.1057/978-1-137-56392-7_16', '10.1021/acs.organomet.1c00454', '10.1145/3357729.3357740', 'DOI: 10.1002/chem.201805527', '10.1371/journal.pone.0222674', '10.1111/infa.12483', '10.1016/j.dhjo.2019.06.009', '10.1145/3173016', '10.1080/07418825.2014.928348', '10.1186/s12862-019-1435-y', 'https://doi.org/10.1177/1462474517734166', '10.1039/d1cc03049c', '10.1186/s12985-018-1106-4', '10.3389/fpsyg.2021.780030', 'Completed/Published', '10.1177/1077801219850343', '10.1002/ece3.3785', '10.1109/GCWkshps45667.2019.9024587', '10.1017/lsi.2019.72', 'http://dx.doi.org/10.1016/j.nurpra.2016.11.004', '10.1364/OE.28.001385', '10.1007/s11121-017-0754-8', '10.1080/07317115.2016.1276114', 'https://doi.org/10.1017/S1049096521000834', '10.1080/17439760.2017.1350738', '10.1016/j.jpsychires.2021.07.023', '10.4324/9781315166797', '10.1371/journal.pone.0161837', '10.1016/j.chroma.2015.10.060', '10.3389/fpsyg.2022.801241', '10.3732/ajb.1500183', '10.1017/dmp.2017.10', 'DOI: 10.1098/rsos.170005 ', '10.1002/chem.201905187', '10.1037/tra0000143', '10.1097/DBP.0000000000000233', '10.11646/phytotaxa.433.1.7', '10.1016/j.onehlt.2023.100571', '10.1111/gwao.12365', '10.4324/9780203873496-8', '10.1016/j.retrec.2020.100917', '10.1016/j.concog.2020.102974', '10.1111/1745-9125.12257', '10.1017/9781316711859.005', 'https://doi.org/10.3847/1538-3881/aba522', '10.4018/978-1-7998-9026-3.ch051', 'http://dx.doi.org/10.1136/bmjopen-2022-063617', 'https://doi.org/10.1177/2156759X19861105', '10.15185/izawol.289.v2', 'dx.doi.org/10.1016/j.ijms.2015.08.019', '10.1001/jamanetworkopen.2020.31190', '10.1111/isj.12134', '10.1177/15404153221116755', '10.1037/tra0001449', '10.1371/journal.pone.0183819', '10.4018/978-1-5225-1923-2.ch011', '10.1145/3132479.3132490', '10.1111/pbi.12304', '10.1017/S0047279420000392', '10.1088/1361-6382/aa88df', '10.1007/978-3-319-29272-4_1', '10.1080/24692921.2017.1370258', '10.1038/s41598-017-18927-1', '10.1016/j.ribaf.2015.09.017', '10.1093/bioinformatics/btz679', '10.1642/AUK-17-123.1', '10.1142/S021798491830003X', '10.1109/MASS.2018.00063', 'http://dx.doi.org.ezprozy.umsl.edu/10.1016/j.uurpra.2018.07.004', '10.1080/10609164.2016.1205241', '10.1021/acs.jchemed.8b00225', '10.1021/acs.jmedchem.6b00948', '10.1099/MGEN.0.000595', '10.1109/JIOT.2022.3151667', '10.1111/een.12833', '10.4324/9781317327585', '10.1016/B978-0-7020-7168-3.00013-1', '10.1007/s10393-018-1361-2', '10.1016/j.acha.2022.07.008', '10.1037/tra0000082', '10.1073/pnas.2006117117', '10.1177/0022427816683515', '10.1007/s12129-020-09928-0', 'https://doi.org/10.1016/j.dhjo.2019.06.009', '10.1177/1077559519874406', 'https://doi.org/10.1016/j.jms.2019.03.002', '10.1016/j.chiabu.2016.11.031', '10.1016/j.paid.2022.112037', 'DOI 10.1088/1361-6420/ac65ac', 'https://doi.org/10.1016/j.tre.2022.102736', '10.3758/s13423-018-1476-z', '10.1016/B978-0-12-821472-5.00015-6', '10.1177/0951484817727130', '10.4324/9781315558554', '10.1177/1066480720973420 ', '10.1016/j.molcata.2015.06.009', '10.1039/c4nr04689g', '10.1177/1362480620984233', '10.1016/j.jcrimjus.2016.09.001', '10.1080/00043125.2019.1534440', '10.1109/FIE.2016.7757713', '10.1016/j.biocon.2016.10.009', '10.1109/CRV50864.2020.00039', '10.1108/JDAL-07-2019-0012', '10.1002/fut.22001', '10.1080/10476210.2018.1506431', 'https://doi.org/10.1002/ejoc.201901330', '10.1021/jf504500g', 'https://doi.org/10.1016/j.acha.2022.07.008', '10.1093/jahist/jaz678', '10.1016/j.ijppaw.2017.03.004', '10.1039/c8ob00477c', '10.1086/693346', 'https://doi.org/10.1111/fare.12776', '10.1177/0022427816644944', 'https://doi.org/10.1108/JDAL-07-2019-0012.', '10.1002/9781118868799.ch0', '10.1177/1932202X18801274', 'https://doi.org/10.1177/0894845316681078', 'https://doi.org/10.1016/j.jms.2022.111702', '10.1017/S0031182016001384', '10.3390/nano9081080', '10.1111/acfi.13001', 'https://doi.org/10.1016/j.jms.2020.111378', '10.1037/ccp0000647', '10.1080/1097198X.2016.1217674', '10.1080/09638288.2021.1938249', 'https://doi.org/10.1016/j.jms.2021.111517', '10.1007/978-3-030-46190-4_1', '10.1177/00220574211026908', '10.1016/j.ympev.2016.12.011', '10.1016/j.drugalcdep.2015.05.043', '10.1093/envhis/emy111', '10.1177/0891242420926576', 'https://doi.org/10.1016/j.jallcom.2022.165272', 'https://doi.org/10.1097/ADM.0000000000001113', '10.1016/bs.irrdd.2020.08.001', '10.1007/s10867-019-09532-6', 'doi: 10.11648/j.ijsspe.20180303.11', 'https://doi.org/10.1177/2156759X19885888', '10.1016/j.jbusvent.2021.106127', 'DOI: 10.1111/cico.12204', '10.1080/26410397.2022.2105965', '10.1016/B978-0-12-800049-6.00257-2', '10.5325/utopianstudies.27.2.0184', '10.1177/0886260520958642', '10.1111/jbi.13760', '10.1111/irfi.12190', '10.1016/j.molp.2020.04.007', '10.1177/1532440018766907', '10.3390/life11020074', '10.1177/0956462420960602', 'https://doi.org/10.1177/0096144220917471 ', '10.1177/00111287221117479', 'https://doi.org/10.7290/tsc05ihzi', '10.4018/978-1-5225-1067-3.ch030', 'doi: 10.1249/01.mss.0000678472.89037.a7', '10.1038/srep12752', '10.1037/men0000234', '10.1186/s40488-019-0091-5', '10.1111/pbi.13183', ' https://doi.org/10.1177/07342829231184293', '10.3390/pr9020298', '10.1002/jts.22513', '10.3847/0004-637X/820/1/34', '10.1080/02699052.2018.1483529', '10.1177/0031721718762420', '10.1080/13668803.2022.2055997', '10.1039/c6ob00107f', '10.1097/INF.0000000000000774', '10.1007/s10584-018-2330-z', '10.1016/j.trip.2023.100792', 'https://doi.org/10.1002/ceas.12261', '10.1111/jasp.12492', '10.1016/j.tate.2017.03.011  ', '10.1037/ort0000390', '10.1016/j.finmar.2016.05.003', '10.1177/1073191119851574', '10.1039/c6md00371k', '10.3928/00989134-20211013-01', '10.3390/f13122027', '10.3847/PSJ/abd03c', '10.1007/s10488-022-01246-7', '10.1097/01.NAJ.0000470409.04919.0f', '10.1016/B978-0-12-820195-4.00252-1', 'https://doi.org/10.1016/j.cam.2021.113607', '10.1007/s11682-020-00417-0', '10.4018/978-1-5225-0741-3', '10.1038/s41586-019-1342-9', '10.1016/j.pacfin.2021.101534', 'https://doi-org.ezproxy.umsl.edu/10.1080/01463373.2021.1981416', '10.1037/adb0000747', '10.1007/s00436-020-06646-y', '10.1177/1932202X221129972', '10.1111/febs.16645', 'https://doi.org/10.1007/s10444-020-09814-x ', '10.1177/0739532917698444', '10.1038/s41598-017-11843-4', '10.1523/JNEUROSCI.0838-22.2022', '10.1039/c7nj03038j', '10.1097/HTR.0000000000000254', '10.1108/LODJ-05-2019-0206', '10.1039/c8ce00198g', '10.1177/1359105320937068', 'https://doi.org/10.1016/j.addbeh.2020.106640', '10.1111/1745-9133.12283', '10.1016/j.drugalcdep.2019.02.026', '10.1016/j.iref.2020.06.038', '10.1177/1077559518786821', '10.1080/20473869.2022.2046441', '10.1088/1361-6420/ac0c21', '10.22371/tces/013', '10.1016/j.amepre.2020.08.028', 'https://doi.org/10.1007/s40616-017-0093-7', '10.1016/B978-0-12-809324-5.21014-6', '10.3417/2021589', '10.1163/9789004358393_015', '10.1108/IJHRH-08-2019-0063', '10.4324/9781315250342', '10.1111/1365-2664.13020', '10.1016/j.janxdis.2021.102412', '10.1039/c8cp02620c', '10.1039/d1ob00188d', '10.1111/puar.12961', '10.1108/IJLM-06-2018-0150', '10.1093/hsw/hlw050', 'https://doi.org/10.1177/2165143418813912', '10.1073/pnas.1703985114', '10.1007/s11146-020-09765-6', '10.1201/b21810', 'https://doi.org/10.1098/rsos.192211', '10.1057/jibs.2015.10', '10.1007/978-3-319-16934-7_99', '10.1007/s11682-020-00363-x', '10.3389/fneur.2018.01165', '10.1146/annurev-criminol-032317-092112', '10.1111/nph.16211', '10.1016/j.apm.2021.03.048', '10.1002/ejic.201501381', '10.1080/00043125.2016.1106864', '8/14/2015', '10.4018/978-1-5225-1680-4.ch013', '10.1007/978-3-030-51890-5.ch12', 'doi.org/10.3390/vision4010019', '10.1097/CIN.0000000000000314', '10.1177/00220094221126836', '10.5430/jha.v6n4p1', '10.1007/s00040-023-00904-9', '10.1016/j.bjp.2016.03.002', '10.1111/mec.15575', '10.3167/GPS.2020.380102', '10.1093/jogss/ogz070', ' doi: 10.1016/j.bmc.2017.03.058', '10.1080/10510974.2017.1396543', 'https://doi.org/10.5664/jcsm.7930', '10.1371/journal.pgen.1005922', '10.1111/1468-0424.12558', '10.1093/database/baz085', '10.1002/9781118868799.ch23', '10.2308/iace-51749', '10.1080/09644008.2017.1367384', 'doi:10.4208/nmtma.OA-2020-0077', '10.3389/fenvs.2023.1207320', '10.1080/08998280.2018.1435111', '10.1016/j.soscij.2019.06.001', '10.1177/10887679221111723', '10.1002/jcop.22265', '10.1177/0886260520915544', '10.1007/s11031-015-9531-9', '10.1051/0004-6361/201527253', '10.3390/ijms18081778', '10.1007/s10560-015-0383-7', '10.1007/s00520-018-4334-7', '10.1080/15332640.2022.2050873', '10.1177/1086296X211030469', '10.1177/2167702615616132', '10.1016/j.jamda.2017.10.014', '10.1145/3319619.3322073', '10.1002/ejp.1733', '10.1007/s10461-017-1788-4', '10.1142/S0218348X21501255', '10.1177/1065912919832374', '10.1039/c9ob02546d', '10.1016/j.stueduc.2022.101232', '10.1002/ejoc.201900748', '10.1016/j.amjcard.2019.03.039', '10.3390/healthcare10020403', '10.3928/01484834-20220303-09', '10.1007/978-3-030-41995-0_5', '10.1111/joca.12486', '10.1111/geb.13390', '10.1017/9781108304320', '10.1111/ssqu.12688', '10.1016/j.jad.2016.05.065', '10.1007/s40687-021-00293-0', '10.3390/polym13111724', '10.1016/j.econlet.2021.110095', '10.1002/prot.24829', '10.1111/ddi.13267', '10.1016/j.jimonfin.2023.102875', '10.1177/0014402918792899', '10.1016/j.jvacx.2023.100312', '10.1137/15M1037457', '10.1016/j.jpsychires.2022.09.027', '10.1080/15456870.2020.1680554', '10.1111/geb.13651', '10.1177/1077559520971362', '10.1016/j.aim.2017.05.018', '10.1093/cid/ciaa1344', '10.3390/bios10010002', '10.1016/j.apnr.2020.151267', '10.1016/j.landurbplan.2022.104513', '10.1080/02699931.2015.1027664', '10.1007/s00213-019-05262-8', '10.1145/3017680.3017803', '10.18473/lepi.72i1.a5', '10.1590/1984-6398201916061 ', '10.1007/978-3-319-29602-9_1', '10.1111/jir.13003', 'http://www.tandfonline.com/doi/full/10.1080/13504851.2017.1290766', '10.1007/s10964-017-0695-3', '10.1080/13669877.2019.1569100', '10.1007/978-3-319-29269-4', '10.1080/15381501.2019.1580236', '10.1037/ccp0000402', '10.1017/S0033291721004475', '10.1007/s10919-020-00339-x', '10.1523/JNEUROSCI.0911-21.2022', 'https://doi.org/10.1016/j.addbeh.2020.106460 ', '10.1002/jts.22105', '10.1111/geb.12477', '10.1186/s12859-018-2032-6', '10.1021/acs.jpcc.1c03409', '10.1177/00111287211039994', '10.1177/0895904816682315', '10.1111/pbi.13665', '10.3390/diagnostics12020540', '10.1080/07350198.2019.1549410', 'https://doi.org/10.1016/j.jcomm.2020.100149', '10.3828/sj.2018.27.1.7', '10.1111/gcb.16150', '10.1007/s00442-020-04748-z', '10.1111/jcal.12347', '10.1093/geront/gnw124', '10.1016/j.jimonfin.2016.06.017', '10.1261/rna.049551.115', '10.3390/antibiotics10111391', 'http://dx.doi.org/10.18251/ijme.v23i1.1995', '10.4324/9781003142911-8', '10.1007/s10764-017-9995-4', '10.1080/19312458.2022.2088713', '10.1007/s13644-019-00372-3', '10.1007/s10551-017-3720-2', '10.1039/d2nj01363k', '10.7758/RSF.2022.8.1.10', '10.1057/9781137012296', 'https://doi.org/10.1111/acfi.13001', '10.1073/pnas.1905298116', '10.1128/JVI.00146-18', '10.7589/2015-03-063', '10.3390/sym10100443', '10.1111/ajfs.12109', 'DOI: 10.1007/s13361-017-1804-y.', '10.4324/9781315180687', '10.1111/1745-9133.12403', 'http://ijbssnet.com/journal/index/3844.', '10.1016/j.bbr.2019.01.054', '10.1017/S0898588X20000024', '10.1039/d2dt03328c', '10.1080/08897077.2015.1048922', 'https://doi.org/10.1080/15582159.2017.1374151', '10.1080/13674676.2017.1334044', '10.3390/pr8010115', '10.1007/s10729-015-9323-5', '10.3847/1538-3881/ab536b', '10.1093/police/paac038', '10.1016/j.amjcard.2017.10.038', '10.1016/j.jbusres.2022.01.073', 'doi:10.3389/fpubh.2021.598455', '10.1111/ecog.01158', '10.1142/12975', '10.1007/s00256-018-2885-9', '10.3389/fams.2022.830530', '10.1080/13854046.2015.1087596', '10.1063/1.4970519', '10.1080/01933922.2019.1669751 ', '10.1177/0361198120911922', '10.3390/diagnostics12030717', 'DOI: https://doi.org/10.21769/BioProtoc.1850\\xa0', '10.1016/j.ijlcj.2022.100548', '10.1111/geb.13158', '10.1016/j.ejor.2020.09.039', '10.1080/01634372.2018.1433260', '10.7748/nr.2016.e1433', 'https://doi.org/10.1186/s43031-019-0018-5 ', '10.18267/J.CEBR.282', '10.1002/net.21818', '10.1093/oxfordhb/9780190213633.013.17', '10.3390/plants8120581', '10.1002/piq.21325', 'https://doi.org/10.1016/j.jbusvent.2021.106142', '10.1093/OBO/9780199846740-0162', '10.1016/j.sna.2020.112155', 'https://doi.org/10.1080/02791072.2022.2079443', '10.1007/s10940-018-9385-x', '10.1080/26904586.2020.1751016', '10.1002/eet.1815', 'https://doi.org/10.1093/hsw/hlz025', '10.4324/9781003125211', '10.1080/0735648X.2016.1155303', '10.1016/j.cjca.2020.03.044', 'https://doi.org/10.1016/j.jpsychires.2020.09.001', 'https://doi.org/10.1080/2326716X.2023.2169892', '10.3847/1538-3881/aa8639', '10.1007/s11422-015-9724-2', '10.1080/10911359.2017.1291391', '10.1007/s11682-015-9402-8', '10.1016/j.poly.2020.114376', '10.1016/j.comptc.2021.113496', '10.1016/j.poly.2016.11.047', '10.1080/10911359.2022.2083742', 'https://doi.org/10.1017/S0954579421000961', '10.1007/s10903-016-0373-7', '10.1177/1077801218778378', '10.1080/09297049.2018.1531983', '10.22550/REP81-1-2023-09', '10.1149/2.1121811jes', '10.1016/j.jelechem.2016.10.013', '10.1080/00224545.2019.1648234', '10.4018/978-1-7998-1962-2.ch007', '10.1186/s13722-023-00361-6', '10.3390/chemosensors11030160', '10.1039/c7dt04232a', '10.1186/s12872-019-1232-y', '10.1177/1073191115597059', '10.4324/9781315097176', '10.1016/j.acha.2019.06.002', '10.1186/s40479-021-00167-5', '10.1039/d1ob00093d', '10.1093/auk/ukz029', '10.1016/j.cct.2020.106150', '10.1103/PhysRevB.103.085111', 'https://doi.org/10.1007/s42822-021-00077-9', '10.3390/coatings11121440', '10.1007/s10867-018-9504-9', '10.1515/jafio-2017-0041', '10.1007/978-3-030-04555-5_15', '10.1016/j.jbct.2023.02.001', '10.1007/s10940-021-09515-8', '10.1111/hic3.12712', '10.1007/s00229-023-01486-3', '10.1089/tmj.2015.0129', '10.1097/NAQ.0000000000000225', '10.1016/j.jorganchem.2016.04.004', '10.1086/689197', '10.1016/j.ympev.2016.12.001', '10.1108/SCM-12-2022-0457', 'https://www.ajaonline.org/imagegallery/3943#1', '10.1177/1540796920953826', '10.1104/pp.17.00026', '10.3390/vision4010019', '10.1080/00220973.2020.1848766', '10.1177/13623613221113501', '10.1080/21565503.2016.1247733', '10.1080/20473869.2016.1176308', '10.1016/j.acha.2020.12.005', '10.25285/2078-1938-2018-10-2-80-103', '10.1080/07317115.2019.1703064', '10.1080/07418825.2016.1226936', 'https://doi.org/10.1016/j.qref.2022.07.003', '10.1016/j.bdr.2018.03.001', '10.1093/monist/onab035', '10.1177/0886260519860894', '10.1080/26924951.2022.2067284', '10.1080/02699931.2016.1189882', '10.1080/00952990.2022.2160340', '10.1002/jcad.12161', 'https://doi.org/10.1016/j.childyouth.2020.105198', '10.1016/j.optom.2015.10.001', ' https://doi.org/10.3390/coatings10100981', '10.1002/jclp.22960', '10.1016/j.racreg.2016.09.007', '10.1038/s41398-022-02085-8'}\n"
          ]
        }
      ]
    },
    {
      "cell_type": "code",
      "source": [
        "import requests\n",
        "\n",
        "API_KEY = '6a2a34c6-7fb4-4bb6-a1e3-5221ba28cabf'\n",
        "\n",
        "def make_request(url, method='GET'):\n",
        "\n",
        "  params = {'api_key': API_KEY}\n",
        "\n",
        "  try:\n",
        "    response = requests.request(method, url, params=params)\n",
        "    return response.text\n",
        "  except requests.exceptions.RequestException as e:\n",
        "    print(e)\n",
        "    return None\n",
        "\n",
        "api_url = \"https://api.openaccessbutton.org\"\n",
        "\n",
        "response = make_request(api_url)\n",
        "\n",
        "print(response)"
      ],
      "metadata": {
        "id": "kFj4p206H_7H",
        "outputId": "811f7435-ebff-4718-9716-c9bd61bbc2ad",
        "colab": {
          "base_uri": "https://localhost:8080/"
        }
      },
      "execution_count": 71,
      "outputs": [
        {
          "output_type": "stream",
          "name": "stdout",
          "text": [
            "{\n",
            "  \"data\": \"The Open Access Button API.\"\n",
            "}\n"
          ]
        }
      ]
    },
    {
      "cell_type": "code",
      "source": [
        "# import pandas as pd\n",
        "# import requests\n",
        "# import json\n",
        "\n",
        "# # DataFrame with title and DOI columns\n",
        "# test_df = pd.DataFrame({\n",
        "#     'title': ['Ribulose bisphosphate carboxylase: a two-layered, square-shaped molecule of symmetry 422', 'Analysis of several key factors influencing deep learning-based inter-residue contact prediction'],\n",
        "#     'doi': ['10.12345/abc123', '10.1093/bioinformatics/btz679']\n",
        "# })\n",
        "\n",
        "# # API endpoint\n",
        "# api_url = 'https://api.openaccessbutton.org/permission'\n",
        "\n",
        "# # Empty lists to store results\n",
        "# pdfs = []\n",
        "# open_access = []\n",
        "\n",
        "# # Iterate through rows\n",
        "# for index, row in test_df.iterrows():\n",
        "\n",
        "#     # Construct request parameters\n",
        "#     params = {\n",
        "# #        'doi': row['doi'],\n",
        "#         'title': row['title']\n",
        "#     }\n",
        "\n",
        "#     # Make request\n",
        "#     response = requests.get(api_url, params=params)\n",
        "\n",
        "#     # Extract PDF URL if available\n",
        "#     pdf_url = response.json().get('find', None)\n",
        "#     pdfs.append(pdf_url)\n",
        "\n",
        "#     # Check if open access\n",
        "#     open_access.append(response.json().get('oa', False))\n",
        "\n",
        "# # Add new columns to dataframe\n",
        "# test_df['pdf'] = pdfs\n",
        "# test_df['is_oa'] = open_access\n",
        "\n",
        "# print(test_df)"
      ],
      "metadata": {
        "id": "tfMS4O7rIeLS"
      },
      "execution_count": 74,
      "outputs": []
    },
    {
      "cell_type": "code",
      "source": [
        "# print(all_dois)\n",
        "\n",
        "# print(type(all_dois))\n",
        "\n",
        "# chunk_size = 51\n",
        "# doi_lists = [list(all_dois)[i:i+chunk_size] for i in range(0, len(all_dois), chunk_size)]\n",
        "\n",
        "# print(doi_lists[0])\n",
        "# print(', '.join(doi_lists[53]))\n",
        "# print(type(doi_lists))"
      ],
      "metadata": {
        "id": "6MZDjfFroMQc"
      },
      "execution_count": 76,
      "outputs": []
    },
    {
      "cell_type": "code",
      "source": [],
      "metadata": {
        "id": "ozxhx4PrZHjf"
      },
      "execution_count": null,
      "outputs": []
    }
  ]
}